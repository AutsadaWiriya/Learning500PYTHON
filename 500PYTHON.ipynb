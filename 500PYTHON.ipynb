{
 "cells": [
  {
   "cell_type": "code",
   "execution_count": 61,
   "metadata": {},
   "outputs": [
    {
     "name": "stdout",
     "output_type": "stream",
     "text": [
      "Hello\n"
     ]
    }
   ],
   "source": [
    "print('Hello')"
   ]
  },
  {
   "cell_type": "code",
   "execution_count": 62,
   "metadata": {},
   "outputs": [
    {
     "name": "stdout",
     "output_type": "stream",
     "text": [
      "Hello World\n"
     ]
    }
   ],
   "source": [
    "print(\"Hello World\")"
   ]
  },
  {
   "cell_type": "code",
   "execution_count": 63,
   "metadata": {},
   "outputs": [
    {
     "name": "stdout",
     "output_type": "stream",
     "text": [
      "hello_python\n"
     ]
    }
   ],
   "source": [
    "print(\"hello_python\")"
   ]
  },
  {
   "cell_type": "code",
   "execution_count": 64,
   "metadata": {},
   "outputs": [
    {
     "name": "stdout",
     "output_type": "stream",
     "text": [
      "Merry X'Mas\n"
     ]
    }
   ],
   "source": [
    "print(\"Merry X'Mas\")"
   ]
  },
  {
   "cell_type": "code",
   "execution_count": 65,
   "metadata": {},
   "outputs": [
    {
     "name": "stdout",
     "output_type": "stream",
     "text": [
      "I want to ask you \"Why don't you drive to work\" \n"
     ]
    }
   ],
   "source": [
    "print('I want to ask you \"Why don\\'t you drive to work\" ')"
   ]
  },
  {
   "cell_type": "code",
   "execution_count": 66,
   "metadata": {},
   "outputs": [
    {
     "name": "stdout",
     "output_type": "stream",
     "text": [
      "\"I don't have a car\"\n"
     ]
    }
   ],
   "source": [
    "print('\"I don\\'t have a car\"')"
   ]
  },
  {
   "cell_type": "code",
   "execution_count": 67,
   "metadata": {},
   "outputs": [
    {
     "name": "stdout",
     "output_type": "stream",
     "text": [
      "You got a new job !? That's so exciting\n"
     ]
    }
   ],
   "source": [
    "print(\"You got a new job !? That's so exciting\")"
   ]
  },
  {
   "cell_type": "code",
   "execution_count": 68,
   "metadata": {},
   "outputs": [
    {
     "name": "stdout",
     "output_type": "stream",
     "text": [
      "สวัสดีวันจันทร์\n"
     ]
    }
   ],
   "source": [
    "print(\"สวัสดีวันจันทร์\")"
   ]
  },
  {
   "cell_type": "code",
   "execution_count": 69,
   "metadata": {},
   "outputs": [
    {
     "name": "stdout",
     "output_type": "stream",
     "text": [
      "ความแตกต่างระหว่างคนเก่งหับคนไม่เก่ง คือ\"การใช้เวลาว่างให้เป็นประโยชน์\"\n"
     ]
    }
   ],
   "source": [
    "print('ความแตกต่างระหว่างคนเก่งหับคนไม่เก่ง คือ\"การใช้เวลาว่างให้เป็นประโยชน์\"')"
   ]
  },
  {
   "cell_type": "code",
   "execution_count": 70,
   "metadata": {},
   "outputs": [
    {
     "name": "stdout",
     "output_type": "stream",
     "text": [
      "/\\/\\/\\\n"
     ]
    }
   ],
   "source": [
    "print(\"/\\\\/\\\\/\\\\\")"
   ]
  },
  {
   "cell_type": "code",
   "execution_count": 71,
   "metadata": {},
   "outputs": [
    {
     "name": "stdout",
     "output_type": "stream",
     "text": [
      "a\n",
      "an\n",
      "ant\n"
     ]
    }
   ],
   "source": [
    "print(\"\"\"a\n",
    "an\n",
    "ant\"\"\")"
   ]
  },
  {
   "cell_type": "code",
   "execution_count": 72,
   "metadata": {},
   "outputs": [
    {
     "name": "stdout",
     "output_type": "stream",
     "text": [
      "\t*\n",
      "*\t*\t*\n",
      "\t*\n"
     ]
    }
   ],
   "source": [
    "print('''\\t*\n",
    "*\\t*\\t*\n",
    "\\t*''')"
   ]
  },
  {
   "cell_type": "code",
   "execution_count": 73,
   "metadata": {},
   "outputs": [
    {
     "name": "stdout",
     "output_type": "stream",
     "text": [
      "*\t+\t*\n",
      "+\t*\t+\n",
      "*\t+\t*\n"
     ]
    }
   ],
   "source": [
    "print('''*\\t+\\t*\n",
    "+\\t*\\t+\n",
    "*\\t+\\t*''')"
   ]
  },
  {
   "cell_type": "code",
   "execution_count": 74,
   "metadata": {},
   "outputs": [
    {
     "name": "stdout",
     "output_type": "stream",
     "text": [
      "Just because something\n",
      "thinks differently from you.\n",
      "does that mean it's not thinking?\n"
     ]
    }
   ],
   "source": [
    "print(\"\"\"Just because something\n",
    "thinks differently from you.\n",
    "does that mean it's not thinking?\"\"\")"
   ]
  },
  {
   "cell_type": "code",
   "execution_count": 75,
   "metadata": {},
   "outputs": [
    {
     "name": "stdout",
     "output_type": "stream",
     "text": [
      "\\\t\t/\n",
      "\tx\n",
      "/\t\t\\\n"
     ]
    }
   ],
   "source": [
    "print(\"\"\"\\\\\\t\\t/\n",
    "\\tx\n",
    "/\\t\\t\\\\\"\"\")"
   ]
  },
  {
   "cell_type": "code",
   "execution_count": 76,
   "metadata": {},
   "outputs": [
    {
     "name": "stdout",
     "output_type": "stream",
     "text": [
      "25\n"
     ]
    }
   ],
   "source": [
    "print('%d' %25)"
   ]
  },
  {
   "cell_type": "code",
   "execution_count": 77,
   "metadata": {},
   "outputs": [
    {
     "name": "stdout",
     "output_type": "stream",
     "text": [
      "100.000000\n"
     ]
    }
   ],
   "source": [
    "print('%f' %100)"
   ]
  },
  {
   "cell_type": "code",
   "execution_count": 78,
   "metadata": {},
   "outputs": [
    {
     "name": "stdout",
     "output_type": "stream",
     "text": [
      "3.141592653589793\n"
     ]
    }
   ],
   "source": [
    "from math import pi\n",
    "print('%.15f' %pi)"
   ]
  },
  {
   "cell_type": "code",
   "execution_count": 79,
   "metadata": {},
   "outputs": [
    {
     "name": "stdout",
     "output_type": "stream",
     "text": [
      "2\n"
     ]
    }
   ],
   "source": [
    "a=2\n",
    "print(a)"
   ]
  },
  {
   "cell_type": "code",
   "execution_count": 80,
   "metadata": {},
   "outputs": [
    {
     "name": "stdout",
     "output_type": "stream",
     "text": [
      "12.5\n"
     ]
    }
   ],
   "source": [
    "a=12.5\n",
    "print(a)"
   ]
  },
  {
   "cell_type": "code",
   "execution_count": 81,
   "metadata": {},
   "outputs": [
    {
     "name": "stdout",
     "output_type": "stream",
     "text": [
      "2 x 3 = 6\n"
     ]
    }
   ],
   "source": [
    "a=2\n",
    "b=3\n",
    "print('%d x %d = %d' %(a, b, a*b))"
   ]
  },
  {
   "cell_type": "code",
   "execution_count": 82,
   "metadata": {},
   "outputs": [
    {
     "name": "stdout",
     "output_type": "stream",
     "text": [
      "2 + 3 = 3 + 2 = 5\n"
     ]
    }
   ],
   "source": [
    "a=2\n",
    "b=3\n",
    "print(a,'+',b,'=',b,'+',a,'=',a+b)"
   ]
  },
  {
   "cell_type": "code",
   "execution_count": 83,
   "metadata": {},
   "outputs": [
    {
     "name": "stdout",
     "output_type": "stream",
     "text": [
      "2*(3+5) = 2*3 + 2*5\n"
     ]
    }
   ],
   "source": [
    "a=2\n",
    "b=3 \n",
    "c=5\n",
    "print(\"%d*(%d+%d) = %d*%d + %d*%d\" %(a, b, c, a, b, a, c))"
   ]
  },
  {
   "cell_type": "code",
   "execution_count": 84,
   "metadata": {},
   "outputs": [
    {
     "name": "stdout",
     "output_type": "stream",
     "text": [
      "2.4+2.5=4.9000\n"
     ]
    }
   ],
   "source": [
    "a=2.4\n",
    "b=2.5\n",
    "print('%.1f+%.1f=%.4f' %(a, b, a+b))"
   ]
  },
  {
   "cell_type": "code",
   "execution_count": 85,
   "metadata": {},
   "outputs": [
    {
     "name": "stdout",
     "output_type": "stream",
     "text": [
      "5.00-2.00=3.0000\n"
     ]
    }
   ],
   "source": [
    "a=5\n",
    "b=2\n",
    "print('%.2f-%.2f=%.4f' %(a, b, a-b))"
   ]
  },
  {
   "cell_type": "code",
   "execution_count": 86,
   "metadata": {},
   "outputs": [
    {
     "name": "stdout",
     "output_type": "stream",
     "text": [
      "ฉันเกิดวันที่ 25 ธันวาคม\n"
     ]
    }
   ],
   "source": [
    "birthday=25\n",
    "print(\"ฉันเกิดวันที่\", birthday, \"ธันวาคม\")"
   ]
  },
  {
   "cell_type": "code",
   "execution_count": 87,
   "metadata": {},
   "outputs": [
    {
     "name": "stdout",
     "output_type": "stream",
     "text": [
      "5เท่าของ100มีค่าเท่ากับ500\n"
     ]
    }
   ],
   "source": [
    "a=5\n",
    "b=100\n",
    "print('%dเท่าของ%dมีค่าเท่ากับ%d' %(a, b, a*b))"
   ]
  },
  {
   "cell_type": "code",
   "execution_count": 88,
   "metadata": {},
   "outputs": [
    {
     "name": "stdout",
     "output_type": "stream",
     "text": [
      "เขามีเงินเยอะกว่าฉัน3.5บาท\n"
     ]
    }
   ],
   "source": [
    "a=3.5\n",
    "print('เขามีเงินเยอะกว่าฉัน%.1fบาท' %(a))"
   ]
  },
  {
   "cell_type": "code",
   "execution_count": 89,
   "metadata": {},
   "outputs": [
    {
     "name": "stdout",
     "output_type": "stream",
     "text": [
      "ฉันได้กำไร 5 %\n"
     ]
    }
   ],
   "source": [
    "a=5\n",
    "print('ฉันได้กำไร %d %%' %a)"
   ]
  },
  {
   "cell_type": "code",
   "execution_count": 90,
   "metadata": {},
   "outputs": [
    {
     "name": "stdout",
     "output_type": "stream",
     "text": [
      "เมื่อวานฉันขาดทุน 2 % วันนี้ฉันได้กำไร 3.50 %\n"
     ]
    }
   ],
   "source": [
    "a=2\n",
    "b=3.5\n",
    "print('เมื่อวานฉันขาดทุน %d %% วันนี้ฉันได้กำไร %.2f %%' %(a, b))"
   ]
  },
  {
   "cell_type": "code",
   "execution_count": 91,
   "metadata": {},
   "outputs": [
    {
     "name": "stdout",
     "output_type": "stream",
     "text": [
      "5\n",
      "<class 'int'>\n"
     ]
    }
   ],
   "source": [
    "numeric1=5\n",
    "print(numeric1)\n",
    "print(type(numeric1))"
   ]
  },
  {
   "cell_type": "code",
   "execution_count": 92,
   "metadata": {},
   "outputs": [
    {
     "name": "stdout",
     "output_type": "stream",
     "text": [
      "-3\n",
      "<class 'int'>\n"
     ]
    }
   ],
   "source": [
    "numeric2=-3\n",
    "print(numeric2)\n",
    "print(type(numeric2))"
   ]
  },
  {
   "cell_type": "code",
   "execution_count": 93,
   "metadata": {},
   "outputs": [
    {
     "name": "stdout",
     "output_type": "stream",
     "text": [
      "0\n",
      "<class 'int'>\n"
     ]
    }
   ],
   "source": [
    "numeric3=0\n",
    "print(numeric3)\n",
    "print(type(numeric3))"
   ]
  },
  {
   "cell_type": "code",
   "execution_count": 60,
   "metadata": {},
   "outputs": [
    {
     "name": "stdout",
     "output_type": "stream",
     "text": [
      "5\n",
      "<class 'int'>\n"
     ]
    }
   ],
   "source": [
    "numeric4 = int(input('input'))\n",
    "print(numeric4)\n",
    "print(type(numeric4))"
   ]
  },
  {
   "cell_type": "code",
   "execution_count": 94,
   "metadata": {},
   "outputs": [
    {
     "name": "stdout",
     "output_type": "stream",
     "text": [
      "5.0\n",
      "<class 'float'>\n"
     ]
    }
   ],
   "source": [
    "numeric1 = 5.0\n",
    "print(numeric1)\n",
    "print(type(numeric1))"
   ]
  },
  {
   "cell_type": "code",
   "execution_count": 95,
   "metadata": {},
   "outputs": [
    {
     "name": "stdout",
     "output_type": "stream",
     "text": [
      "-3.1\n",
      "<class 'float'>\n"
     ]
    }
   ],
   "source": [
    "numeric2 = -3.1\n",
    "print(numeric2)\n",
    "print(type(numeric2))"
   ]
  },
  {
   "cell_type": "code",
   "execution_count": 96,
   "metadata": {},
   "outputs": [
    {
     "name": "stdout",
     "output_type": "stream",
     "text": [
      "0.0\n",
      "<class 'float'>\n"
     ]
    }
   ],
   "source": [
    "numeric3 = 0.0\n",
    "print(numeric3)\n",
    "print(type(numeric3))"
   ]
  },
  {
   "cell_type": "code",
   "execution_count": 97,
   "metadata": {},
   "outputs": [
    {
     "name": "stdout",
     "output_type": "stream",
     "text": [
      "1.0\n",
      "<class 'float'>\n"
     ]
    }
   ],
   "source": [
    "numeric4 = float(input('input:'))\n",
    "print(numeric4)\n",
    "print(type(numeric4))"
   ]
  },
  {
   "cell_type": "code",
   "execution_count": 98,
   "metadata": {},
   "outputs": [
    {
     "name": "stdout",
     "output_type": "stream",
     "text": [
      "input: 2 <class 'int'>\n",
      "input: 5 <class 'int'>\n",
      "ผลบวก= 7 <class 'int'>\n",
      "ผลลบ= -3 <class 'int'>\n",
      "ผลคูณ= 10 <class 'int'>\n",
      "ผลหาร= 0.4 <class 'float'>\n"
     ]
    }
   ],
   "source": [
    "int1 = int(input('int1:'))\n",
    "int2 = int(input('int1:'))\n",
    "print(\"input:\", int1, type(int1))\n",
    "print(\"input:\", int2, type(int2))\n",
    "a = int1 + int2\n",
    "print(\"ผลบวก=\", a, type(a))\n",
    "b = int1 - int2\n",
    "print(\"ผลลบ=\", b, type(b))\n",
    "c = int1*int2\n",
    "print(\"ผลคูณ=\", c, type(c))\n",
    "d = int1/int2\n",
    "print(\"ผลหาร=\", d, type(d))"
   ]
  },
  {
   "cell_type": "code",
   "execution_count": 99,
   "metadata": {},
   "outputs": [
    {
     "name": "stdout",
     "output_type": "stream",
     "text": [
      "float1: 5.0 <class 'float'>\n",
      "float2: 5.0 <class 'float'>\n",
      "ผลบวก= 10.0 <class 'float'>\n",
      "ผลลบ= 0.0 <class 'float'>\n",
      "ผลคูณ= 25.0 <class 'float'>\n",
      "ผลหาร= 1.0 <class 'float'>\n"
     ]
    }
   ],
   "source": [
    "float1 = float(input(\"float1:\"))\n",
    "float2 = float(input(\"float2:\"))\n",
    "print(\"float1:\", float1, type(float1))\n",
    "print(\"float2:\", float2, type(float2))\n",
    "a = float1 + float2\n",
    "print(\"ผลบวก=\", a, type(a))\n",
    "b = float1 - float2\n",
    "print(\"ผลลบ=\", b, type(b))\n",
    "c = float1*float2\n",
    "print(\"ผลคูณ=\", c, type(c))\n",
    "d = float1/float2\n",
    "print(\"ผลหาร=\", d, type(d))"
   ]
  },
  {
   "cell_type": "code",
   "execution_count": 100,
   "metadata": {},
   "outputs": [
    {
     "name": "stdout",
     "output_type": "stream",
     "text": [
      "int1 5 <class 'int'>\n",
      "float 5.0 <class 'float'>\n",
      "ผลบวก= 10.0 <class 'float'>\n",
      "ผลลบ= 0.0 <class 'float'>\n",
      "ผลคูณ= 25.0 <class 'float'>\n",
      "ผลหาร= 1.0 <class 'float'>\n"
     ]
    }
   ],
   "source": [
    "int1 = int(input('int1:'))\n",
    "float1 = float(input('float1:'))\n",
    "print(\"int1\", int1, type(int1))\n",
    "print(\"float\", float1, type(float1))\n",
    "a = int1 + float1\n",
    "print(\"ผลบวก=\", a, type(a))\n",
    "b = int1 - float1\n",
    "print(\"ผลลบ=\", b, type(b))\n",
    "c = int1*float1\n",
    "print(\"ผลคูณ=\", c, type(c))\n",
    "d = int1/float1\n",
    "print(\"ผลหาร=\", d, type(d))"
   ]
  },
  {
   "cell_type": "code",
   "execution_count": 101,
   "metadata": {},
   "outputs": [
    {
     "name": "stdout",
     "output_type": "stream",
     "text": [
      "True\n",
      "<class 'bool'>\n"
     ]
    }
   ],
   "source": [
    "logic1 = True\n",
    "print(logic1)\n",
    "print(type(logic1))"
   ]
  },
  {
   "cell_type": "code",
   "execution_count": 102,
   "metadata": {},
   "outputs": [
    {
     "name": "stdout",
     "output_type": "stream",
     "text": [
      "False\n",
      "<class 'bool'>\n"
     ]
    }
   ],
   "source": [
    "logic2 = False\n",
    "print(logic2)\n",
    "print(type(logic2))"
   ]
  },
  {
   "cell_type": "code",
   "execution_count": 103,
   "metadata": {},
   "outputs": [
    {
     "name": "stdout",
     "output_type": "stream",
     "text": [
      "False\n"
     ]
    }
   ],
   "source": [
    "logic1 = True\n",
    "logic2 = False\n",
    "print((True and False))"
   ]
  },
  {
   "cell_type": "code",
   "execution_count": 104,
   "metadata": {},
   "outputs": [
    {
     "name": "stdout",
     "output_type": "stream",
     "text": [
      "True\n"
     ]
    }
   ],
   "source": [
    "logic1 = True\n",
    "logic2 = False\n",
    "print((True or False))"
   ]
  },
  {
   "cell_type": "code",
   "execution_count": 105,
   "metadata": {},
   "outputs": [
    {
     "name": "stdout",
     "output_type": "stream",
     "text": [
      "(1+2j)\n",
      "<class 'complex'>\n"
     ]
    }
   ],
   "source": [
    "complex1 = 1+2j\n",
    "print(complex1)\n",
    "print(type(complex1))"
   ]
  },
  {
   "cell_type": "code",
   "execution_count": 106,
   "metadata": {},
   "outputs": [
    {
     "name": "stdout",
     "output_type": "stream",
     "text": [
      "1.0\n"
     ]
    }
   ],
   "source": [
    "complex1 = 1+2j\n",
    "print(complex1.real)"
   ]
  },
  {
   "cell_type": "code",
   "execution_count": 107,
   "metadata": {},
   "outputs": [
    {
     "name": "stdout",
     "output_type": "stream",
     "text": [
      "2.0\n"
     ]
    }
   ],
   "source": [
    "complex1 = 1+2j\n",
    "print(complex1.imag)"
   ]
  },
  {
   "cell_type": "code",
   "execution_count": 108,
   "metadata": {},
   "outputs": [
    {
     "name": "stdout",
     "output_type": "stream",
     "text": [
      "Python\n",
      "<class 'str'>\n"
     ]
    }
   ],
   "source": [
    "string1 = 'Python'\n",
    "print(string1)\n",
    "print(type(string1))"
   ]
  },
  {
   "cell_type": "code",
   "execution_count": 109,
   "metadata": {},
   "outputs": [
    {
     "name": "stdout",
     "output_type": "stream",
     "text": [
      "P\n"
     ]
    }
   ],
   "source": [
    "string1 = 'Python'\n",
    "print(string1[0])"
   ]
  },
  {
   "cell_type": "code",
   "execution_count": 110,
   "metadata": {},
   "outputs": [
    {
     "name": "stdout",
     "output_type": "stream",
     "text": [
      "y\n"
     ]
    }
   ],
   "source": [
    "string1 = 'Python'\n",
    "print(string1[1])"
   ]
  },
  {
   "cell_type": "code",
   "execution_count": 111,
   "metadata": {},
   "outputs": [
    {
     "name": "stdout",
     "output_type": "stream",
     "text": [
      "n\n"
     ]
    }
   ],
   "source": [
    "string1 = 'Python'\n",
    "print(string1[-1])"
   ]
  },
  {
   "cell_type": "code",
   "execution_count": 112,
   "metadata": {},
   "outputs": [
    {
     "name": "stdout",
     "output_type": "stream",
     "text": [
      "o\n"
     ]
    }
   ],
   "source": [
    "string1 = 'Python'\n",
    "print(string1[-2])"
   ]
  },
  {
   "cell_type": "code",
   "execution_count": 113,
   "metadata": {},
   "outputs": [
    {
     "name": "stdout",
     "output_type": "stream",
     "text": [
      "t\n"
     ]
    }
   ],
   "source": [
    "string1 = 'Python'\n",
    "print(string1[2])"
   ]
  },
  {
   "cell_type": "code",
   "execution_count": 114,
   "metadata": {},
   "outputs": [
    {
     "name": "stdout",
     "output_type": "stream",
     "text": [
      "h\n"
     ]
    }
   ],
   "source": [
    "string1 = 'Python'\n",
    "print(string1[-3])"
   ]
  },
  {
   "cell_type": "code",
   "execution_count": 115,
   "metadata": {},
   "outputs": [
    {
     "name": "stdout",
     "output_type": "stream",
     "text": [
      "th\n"
     ]
    }
   ],
   "source": [
    "string1 = 'Python'\n",
    "print(string1[2:-2])"
   ]
  },
  {
   "cell_type": "code",
   "execution_count": 116,
   "metadata": {},
   "outputs": [
    {
     "name": "stdout",
     "output_type": "stream",
     "text": [
      "yt\n"
     ]
    }
   ],
   "source": [
    "string1 = 'Python'\n",
    "print(string1[1:3])"
   ]
  },
  {
   "cell_type": "code",
   "execution_count": 117,
   "metadata": {},
   "outputs": [
    {
     "name": "stdout",
     "output_type": "stream",
     "text": [
      "tho\n"
     ]
    }
   ],
   "source": [
    "string1 = 'Python'\n",
    "print(string1[2:-1])"
   ]
  },
  {
   "cell_type": "code",
   "execution_count": 118,
   "metadata": {},
   "outputs": [
    {
     "name": "stdout",
     "output_type": "stream",
     "text": [
      "th\n"
     ]
    }
   ],
   "source": [
    "string1 = 'Python'\n",
    "print(string1[-4:4])"
   ]
  },
  {
   "cell_type": "code",
   "execution_count": 119,
   "metadata": {},
   "outputs": [
    {
     "name": "stdout",
     "output_type": "stream",
     "text": [
      "Pyth\n"
     ]
    }
   ],
   "source": [
    "string1 = 'Python'\n",
    "print(string1[-6:4])"
   ]
  },
  {
   "cell_type": "code",
   "execution_count": 120,
   "metadata": {},
   "outputs": [
    {
     "name": "stdout",
     "output_type": "stream",
     "text": [
      "th\n"
     ]
    }
   ],
   "source": [
    "string1 = 'Python'\n",
    "print(string1[-4:-2])"
   ]
  },
  {
   "cell_type": "code",
   "execution_count": 121,
   "metadata": {},
   "outputs": [
    {
     "name": "stdout",
     "output_type": "stream",
     "text": [
      "2\n"
     ]
    }
   ],
   "source": [
    "string1 = input(\"string1=\")\n",
    "print(len(string1))"
   ]
  },
  {
   "cell_type": "code",
   "execution_count": 122,
   "metadata": {},
   "outputs": [
    {
     "name": "stdout",
     "output_type": "stream",
     "text": [
      "False\n"
     ]
    }
   ],
   "source": [
    "string1 = input(\"string1=\")\n",
    "print(\"h\" in string1)"
   ]
  },
  {
   "cell_type": "code",
   "execution_count": 123,
   "metadata": {},
   "outputs": [],
   "source": [
    "string1 = input(\"string1=\")\n",
    "string2 = input(\"string2=\")\n",
    "print(string2 in string1)"
   ]
  },
  {
   "cell_type": "code",
   "execution_count": null,
   "metadata": {},
   "outputs": [
    {
     "name": "stdout",
     "output_type": "stream",
     "text": [
      "gAsgdA\n"
     ]
    }
   ],
   "source": [
    "string1 = input(\"string1=\")\n",
    "print(string1.replace('a', 'A'))"
   ]
  },
  {
   "cell_type": "code",
   "execution_count": null,
   "metadata": {},
   "outputs": [
    {
     "name": "stdout",
     "output_type": "stream",
     "text": [
      "dgjk;lskdA\n"
     ]
    }
   ],
   "source": [
    "string1 = input(\"string1=\")\n",
    "string2 = string1.replace('a', 'A')\n",
    "print(string2)"
   ]
  },
  {
   "cell_type": "code",
   "execution_count": null,
   "metadata": {},
   "outputs": [
    {
     "name": "stdout",
     "output_type": "stream",
     "text": [
      "['we', 'are']\n"
     ]
    }
   ],
   "source": [
    "sentence = input(\"sentence=\")\n",
    "print(sentence.split(\" \"))"
   ]
  },
  {
   "cell_type": "code",
   "execution_count": null,
   "metadata": {},
   "outputs": [
    {
     "name": "stdout",
     "output_type": "stream",
     "text": [
      "['Wo', 'ld']\n"
     ]
    }
   ],
   "source": [
    "sentence = input(\"sentence=\")\n",
    "c = input(\"c=\")\n",
    "print(sentence.split(c))"
   ]
  },
  {
   "cell_type": "code",
   "execution_count": null,
   "metadata": {},
   "outputs": [
    {
     "name": "stdout",
     "output_type": "stream",
     "text": [
      "Friday\n"
     ]
    }
   ],
   "source": [
    "str1 = input('str1=')\n",
    "str2 = input('str2=')\n",
    "print(str1+str2)"
   ]
  },
  {
   "cell_type": "code",
   "execution_count": null,
   "metadata": {},
   "outputs": [
    {
     "name": "stdout",
     "output_type": "stream",
     "text": [
      "[0, 1, 2, 'a', 'b', 'c']\n",
      "<class 'list'>\n"
     ]
    }
   ],
   "source": [
    "list1 = [0, 1, 2,'a', 'b', 'c']\n",
    "print(list1)\n",
    "print(type(list1))"
   ]
  },
  {
   "cell_type": "code",
   "execution_count": null,
   "metadata": {},
   "outputs": [
    {
     "name": "stdout",
     "output_type": "stream",
     "text": [
      "2\n"
     ]
    }
   ],
   "source": [
    "list1 = [0, 1, 2, 'a', 'b', 'c']\n",
    "print(list1[2])"
   ]
  },
  {
   "cell_type": "code",
   "execution_count": null,
   "metadata": {},
   "outputs": [
    {
     "name": "stdout",
     "output_type": "stream",
     "text": [
      "a\n"
     ]
    }
   ],
   "source": [
    "list1 = [0, 1, 2, 'a', 'b', 'c']\n",
    "print(list1[-3])"
   ]
  },
  {
   "cell_type": "code",
   "execution_count": null,
   "metadata": {},
   "outputs": [
    {
     "name": "stdout",
     "output_type": "stream",
     "text": [
      "0\n"
     ]
    }
   ],
   "source": [
    "list1 = [0, 1, 2, 'a', 'b', 'c']\n",
    "print(list1[0])"
   ]
  },
  {
   "cell_type": "code",
   "execution_count": null,
   "metadata": {},
   "outputs": [
    {
     "name": "stdout",
     "output_type": "stream",
     "text": [
      "b\n"
     ]
    }
   ],
   "source": [
    "list1 = [0, 1, 2, 'a', 'b', 'c']\n",
    "print(list1[-2])"
   ]
  },
  {
   "cell_type": "code",
   "execution_count": null,
   "metadata": {},
   "outputs": [
    {
     "name": "stdout",
     "output_type": "stream",
     "text": [
      "[2]\n"
     ]
    }
   ],
   "source": [
    "list1 = [0, 1, 2, 'a', 'b', 'c']\n",
    "print(list1[2:3])"
   ]
  },
  {
   "cell_type": "code",
   "execution_count": null,
   "metadata": {},
   "outputs": [
    {
     "name": "stdout",
     "output_type": "stream",
     "text": [
      "[1, 2, 'a']\n"
     ]
    }
   ],
   "source": [
    "list1 = [0, 1, 2, 'a', 'b', 'c']\n",
    "print(list1[1:-2])\n"
   ]
  },
  {
   "cell_type": "code",
   "execution_count": null,
   "metadata": {},
   "outputs": [
    {
     "name": "stdout",
     "output_type": "stream",
     "text": [
      "[1, 2, 'a', 'b']\n"
     ]
    }
   ],
   "source": [
    "list1 = [0, 1, 2, 'a', 'b', 'c']\n",
    "print(list1[1:5])"
   ]
  },
  {
   "cell_type": "code",
   "execution_count": null,
   "metadata": {},
   "outputs": [
    {
     "name": "stdout",
     "output_type": "stream",
     "text": [
      "['a', 'b', 'c']\n"
     ]
    }
   ],
   "source": [
    "list1 = [0, 1, 2, 'a', 'b', 'c']\n",
    "print(list1[3:])"
   ]
  },
  {
   "cell_type": "code",
   "execution_count": null,
   "metadata": {},
   "outputs": [
    {
     "name": "stdout",
     "output_type": "stream",
     "text": [
      "[0, 1, 2]\n"
     ]
    }
   ],
   "source": [
    "list1 = [0, 1, 2, 'a', 'b', 'c']\n",
    "print(list1[:-3])"
   ]
  },
  {
   "cell_type": "code",
   "execution_count": null,
   "metadata": {},
   "outputs": [
    {
     "name": "stdout",
     "output_type": "stream",
     "text": [
      "['ant', 'bird', 'cat', 'duck', 'eagle']\n"
     ]
    }
   ],
   "source": [
    "list2 = ['ant', 'bird', 'cat', 'dog', 'eagle']\n",
    "list2[3] = 'duck'\n",
    "print(list2)"
   ]
  },
  {
   "cell_type": "code",
   "execution_count": null,
   "metadata": {},
   "outputs": [
    {
     "name": "stdout",
     "output_type": "stream",
     "text": [
      "['ape', 'bird', 'cat', 'dog', 'eagle']\n"
     ]
    }
   ],
   "source": [
    "list2 = ['ant', 'bird', 'cat', 'dog', 'eagle']\n",
    "list2[0] = 'ape'\n",
    "print(list2)"
   ]
  },
  {
   "cell_type": "code",
   "execution_count": null,
   "metadata": {},
   "outputs": [
    {
     "name": "stdout",
     "output_type": "stream",
     "text": [
      "['ant', 'bird', 'cat', 'dog', 'fish']\n"
     ]
    }
   ],
   "source": [
    "list2 = ['ant', 'bird', 'cat', 'dog', 'eagle']\n",
    "list2[4] = 'fish'\n",
    "print(list2)"
   ]
  },
  {
   "cell_type": "code",
   "execution_count": null,
   "metadata": {},
   "outputs": [
    {
     "name": "stdout",
     "output_type": "stream",
     "text": [
      "['Dog', 'Cat', 'Fish']\n"
     ]
    }
   ],
   "source": [
    "list2 = []\n",
    "a = input(\"str1\")\n",
    "b = input(\"str2\")\n",
    "c = input(\"str3\")\n",
    "list2.append(a)\n",
    "list2.append(b)\n",
    "list2.append(c)\n",
    "print(list2)"
   ]
  },
  {
   "cell_type": "code",
   "execution_count": null,
   "metadata": {},
   "outputs": [
    {
     "name": "stdout",
     "output_type": "stream",
     "text": [
      "['apple', 'banana', 'cherry', 'eggfruit']\n"
     ]
    }
   ],
   "source": [
    "list3 = ['apple', 'cherry', 'eggfruit']\n",
    "list3.insert(1, 'banana')\n",
    "print(list3)"
   ]
  },
  {
   "cell_type": "code",
   "execution_count": null,
   "metadata": {},
   "outputs": [
    {
     "name": "stdout",
     "output_type": "stream",
     "text": [
      "['apple', 'banana', 'kiwi', 'cherry', 'eggfruit']\n"
     ]
    }
   ],
   "source": [
    "list3 = ['apple', 'banana', 'cherry', 'eggfruit']\n",
    "list3.insert(-2, 'kiwi')\n",
    "print(list3)"
   ]
  },
  {
   "cell_type": "code",
   "execution_count": null,
   "metadata": {},
   "outputs": [
    {
     "name": "stdout",
     "output_type": "stream",
     "text": [
      "[0, 1, 2, 3, 4]\n"
     ]
    }
   ],
   "source": [
    "list4 = [0, 4, 2, 3, 1]\n",
    "list4.sort()\n",
    "print(list4)"
   ]
  },
  {
   "cell_type": "code",
   "execution_count": null,
   "metadata": {},
   "outputs": [
    {
     "name": "stdout",
     "output_type": "stream",
     "text": [
      "[4, 3, 2, 1, 0]\n"
     ]
    }
   ],
   "source": [
    "list4 = [0, 4, 2, 3, 1]\n",
    "list4.sort(reverse=True)\n",
    "print(list4)"
   ]
  },
  {
   "cell_type": "code",
   "execution_count": null,
   "metadata": {},
   "outputs": [
    {
     "name": "stdout",
     "output_type": "stream",
     "text": [
      "[0, 1, 2, 3, 4]\n"
     ]
    }
   ],
   "source": [
    "list4 = [0, 4, 2, 3, 1]\n",
    "sorted_list4 = sorted(list4)\n",
    "print(sorted_list4)"
   ]
  },
  {
   "cell_type": "code",
   "execution_count": null,
   "metadata": {},
   "outputs": [
    {
     "name": "stdout",
     "output_type": "stream",
     "text": [
      "[4, 3, 2, 1, 0]\n"
     ]
    }
   ],
   "source": [
    "list4 = [0, 4, 2, 3, 1]\n",
    "sorted_list4 = sorted(list4, reverse=True)\n",
    "print(sorted_list4)\n"
   ]
  },
  {
   "cell_type": "code",
   "execution_count": null,
   "metadata": {},
   "outputs": [
    {
     "name": "stdout",
     "output_type": "stream",
     "text": [
      "['a', 'b', 'c', 'd', 'e']\n"
     ]
    }
   ],
   "source": [
    "list5 = ['d', 'a', 'c', 'b', 'e']\n",
    "list5.sort()\n",
    "print(list5)"
   ]
  },
  {
   "cell_type": "code",
   "execution_count": null,
   "metadata": {},
   "outputs": [
    {
     "name": "stdout",
     "output_type": "stream",
     "text": [
      "['e', 'd', 'c', 'b', 'a']\n"
     ]
    }
   ],
   "source": [
    "list5 = ['d', 'a', 'c', 'b', 'e']\n",
    "sorted_list5 = sorted(list5, reverse=True)\n",
    "print(sorted_list5)"
   ]
  },
  {
   "cell_type": "code",
   "execution_count": null,
   "metadata": {},
   "outputs": [
    {
     "name": "stdout",
     "output_type": "stream",
     "text": [
      "['a', 'b', 'c', 1, 2, 3]\n",
      "[1, 2, 3]\n"
     ]
    }
   ],
   "source": [
    "list1 = ['a', 'b', 'c']\n",
    "list2 = [1, 2, 3]\n",
    "list1.extend(list2)\n",
    "print(list1)\n",
    "print(list2)"
   ]
  },
  {
   "cell_type": "code",
   "execution_count": null,
   "metadata": {},
   "outputs": [
    {
     "name": "stdout",
     "output_type": "stream",
     "text": [
      "['a', 'b', 'c']\n",
      "[1, 2, 3]\n",
      "['a', 'b', 'c', 1, 2, 3]\n"
     ]
    }
   ],
   "source": [
    "list1 = ['a', 'b', 'c']\n",
    "list2 = [1, 2, 3]\n",
    "list3 = list1 + list2\n",
    "print(list1)\n",
    "print(list2)\n",
    "print(list3)"
   ]
  },
  {
   "cell_type": "code",
   "execution_count": null,
   "metadata": {},
   "outputs": [
    {
     "name": "stdout",
     "output_type": "stream",
     "text": [
      "[1, 3, 1, 2, 3]\n"
     ]
    }
   ],
   "source": [
    "list1 = [1, 2, 3, 1, 2, 3]\n",
    "del list1[1]\n",
    "print(list1)"
   ]
  },
  {
   "cell_type": "code",
   "execution_count": null,
   "metadata": {},
   "outputs": [
    {
     "name": "stdout",
     "output_type": "stream",
     "text": [
      "[1, 2, 1, 2]\n"
     ]
    }
   ],
   "source": [
    "list1 = [1, 2, 3, 1, 2, 3]\n",
    "del list1[2]\n",
    "del list1[-1]\n",
    "print(list1)"
   ]
  },
  {
   "cell_type": "code",
   "execution_count": null,
   "metadata": {},
   "outputs": [
    {
     "name": "stdout",
     "output_type": "stream",
     "text": [
      "[2, 3, 1, 2, 3]\n"
     ]
    }
   ],
   "source": [
    "list1 = [1, 2, 3, 1, 2, 3]\n",
    "list1.remove(1)\n",
    "print(list1)"
   ]
  },
  {
   "cell_type": "code",
   "execution_count": null,
   "metadata": {},
   "outputs": [
    {
     "name": "stdout",
     "output_type": "stream",
     "text": [
      "[2, 3, 2, 3]\n"
     ]
    }
   ],
   "source": [
    "list1 = [1, 2, 3, 1, 2, 3]\n",
    "list1.remove(1)\n",
    "list1.remove(1)\n",
    "print(list1)"
   ]
  },
  {
   "cell_type": "code",
   "execution_count": null,
   "metadata": {},
   "outputs": [
    {
     "name": "stdout",
     "output_type": "stream",
     "text": [
      "[]\n"
     ]
    }
   ],
   "source": [
    "list1 = [1, 2, 3, 1, 2, 3]\n",
    "list1.clear()\n",
    "print(list1)"
   ]
  },
  {
   "cell_type": "code",
   "execution_count": null,
   "metadata": {},
   "outputs": [
    {
     "name": "stdout",
     "output_type": "stream",
     "text": [
      "6\n"
     ]
    }
   ],
   "source": [
    "list1 = [1, 2, 3, 1, 2, 3]\n",
    "print(len(list1))"
   ]
  },
  {
   "cell_type": "code",
   "execution_count": null,
   "metadata": {},
   "outputs": [
    {
     "name": "stdout",
     "output_type": "stream",
     "text": [
      "True\n"
     ]
    }
   ],
   "source": [
    "list1 = [1, 2, 3, 4, 5]\n",
    "numeric1 = int(input(\"numeric1=\"))\n",
    "print(numeric1 in list1)\n"
   ]
  },
  {
   "cell_type": "code",
   "execution_count": 2,
   "metadata": {},
   "outputs": [
    {
     "name": "stdout",
     "output_type": "stream",
     "text": [
      "('America', 'Brazil', 'China', 'Dominican', 'Egypt')\n",
      "<class 'tuple'>\n"
     ]
    }
   ],
   "source": [
    "tuple1 = ('America', 'Brazil', 'China', 'Dominican', 'Egypt')\n",
    "print(tuple1)\n",
    "print(type(tuple1))"
   ]
  },
  {
   "cell_type": "code",
   "execution_count": 1,
   "metadata": {},
   "outputs": [
    {
     "name": "stdout",
     "output_type": "stream",
     "text": [
      "Brazil\n"
     ]
    }
   ],
   "source": [
    "tuple1 = ('America', 'Brazil', 'China', 'Dominican', 'Egypt')\n",
    "print(tuple1[1])\n"
   ]
  },
  {
   "cell_type": "code",
   "execution_count": 2,
   "metadata": {},
   "outputs": [
    {
     "name": "stdout",
     "output_type": "stream",
     "text": [
      "Dominican\n"
     ]
    }
   ],
   "source": [
    "tuple1 = ('America', 'Brazil', 'China', 'Dominican', 'Egypt')\n",
    "print(tuple1[-2])"
   ]
  },
  {
   "cell_type": "code",
   "execution_count": 3,
   "metadata": {},
   "outputs": [
    {
     "name": "stdout",
     "output_type": "stream",
     "text": [
      "China\n"
     ]
    }
   ],
   "source": [
    "tuple1 = ('America', 'Brazil', 'China', 'Dominican', 'Egypt')\n",
    "print(tuple1[2])"
   ]
  },
  {
   "cell_type": "code",
   "execution_count": 4,
   "metadata": {},
   "outputs": [
    {
     "name": "stdout",
     "output_type": "stream",
     "text": [
      "Egypt\n"
     ]
    }
   ],
   "source": [
    "tuple1 = ('America', 'Brazil', 'China', 'Dominican', 'Egypt')\n",
    "print(tuple1[-1])"
   ]
  },
  {
   "cell_type": "code",
   "execution_count": 6,
   "metadata": {},
   "outputs": [
    {
     "name": "stdout",
     "output_type": "stream",
     "text": [
      "['two', 'three']\n"
     ]
    }
   ],
   "source": [
    "tuple2 = ['one', 'two', 'three', 1, 2, 3]\n",
    "print(tuple2[1:3])"
   ]
  },
  {
   "cell_type": "code",
   "execution_count": 7,
   "metadata": {},
   "outputs": [
    {
     "name": "stdout",
     "output_type": "stream",
     "text": [
      "['three', 1]\n"
     ]
    }
   ],
   "source": [
    "tuple2 = ['one', 'two', 'three', 1, 2, 3]\n",
    "print(tuple2[2:-2])"
   ]
  },
  {
   "cell_type": "code",
   "execution_count": 9,
   "metadata": {},
   "outputs": [
    {
     "name": "stdout",
     "output_type": "stream",
     "text": [
      "['three', 1]\n"
     ]
    }
   ],
   "source": [
    "tuple2 = ['one', 'two', 'three', 1, 2, 3]\n",
    "print(tuple2[2:4])"
   ]
  },
  {
   "cell_type": "code",
   "execution_count": 12,
   "metadata": {},
   "outputs": [
    {
     "name": "stdout",
     "output_type": "stream",
     "text": [
      "['one', 'two', 'three']\n"
     ]
    }
   ],
   "source": [
    "tuple2 = ['one', 'two', 'three', 1, 2, 3]\n",
    "print(tuple2[0:3])"
   ]
  },
  {
   "cell_type": "code",
   "execution_count": 13,
   "metadata": {},
   "outputs": [
    {
     "name": "stdout",
     "output_type": "stream",
     "text": [
      "5\n"
     ]
    }
   ],
   "source": [
    "tuple3 = ['one', 'two', 'three', 'four', 'five']\n",
    "print(len(tuple3))"
   ]
  },
  {
   "cell_type": "code",
   "execution_count": 15,
   "metadata": {},
   "outputs": [
    {
     "name": "stdout",
     "output_type": "stream",
     "text": [
      "False\n"
     ]
    }
   ],
   "source": [
    "tuple3 = ['one', 'two', 'three', 'four', 'five']\n",
    "str1 = input('str1=')\n",
    "print(str1 in tuple3)"
   ]
  },
  {
   "cell_type": "code",
   "execution_count": 16,
   "metadata": {},
   "outputs": [
    {
     "name": "stdout",
     "output_type": "stream",
     "text": [
      "{'first_name': 'John', 'last_name': 'Doe'}\n",
      "<class 'dict'>\n"
     ]
    }
   ],
   "source": [
    "dict1 = {'first_name' : 'John', 'last_name' : 'Doe' }\n",
    "print(dict1)\n",
    "print(type(dict1))"
   ]
  },
  {
   "cell_type": "code",
   "execution_count": 18,
   "metadata": {},
   "outputs": [
    {
     "name": "stdout",
     "output_type": "stream",
     "text": [
      "John\n"
     ]
    }
   ],
   "source": [
    "dict1 = {'first_name': 'John', 'last_name': 'Doe'}\n",
    "print(dict1['first_name'])"
   ]
  },
  {
   "cell_type": "code",
   "execution_count": 19,
   "metadata": {},
   "outputs": [
    {
     "name": "stdout",
     "output_type": "stream",
     "text": [
      "Doe\n"
     ]
    }
   ],
   "source": [
    "dict1 = {'first_name': 'John', 'last_name': 'Doe'}\n",
    "print(dict1['last_name'])"
   ]
  },
  {
   "cell_type": "code",
   "execution_count": 20,
   "metadata": {},
   "outputs": [
    {
     "name": "stdout",
     "output_type": "stream",
     "text": [
      "dict_keys(['first_name', 'last_name'])\n"
     ]
    }
   ],
   "source": [
    "dict1 = {'first_name': 'John', 'last_name': 'Doe'}\n",
    "print(dict1.keys())"
   ]
  },
  {
   "cell_type": "code",
   "execution_count": 22,
   "metadata": {},
   "outputs": [
    {
     "name": "stdout",
     "output_type": "stream",
     "text": [
      "dict_values(['John', 'Doe'])\n"
     ]
    }
   ],
   "source": [
    "dict1 = {'first_name': 'John', 'last_name': 'Doe'}\n",
    "print(dict1.values())"
   ]
  },
  {
   "cell_type": "code",
   "execution_count": 25,
   "metadata": {},
   "outputs": [
    {
     "name": "stdout",
     "output_type": "stream",
     "text": [
      "{'first_name': 'Jane', 'last_name': 'Doe'}\n"
     ]
    }
   ],
   "source": [
    "dict1 = {'first_name': 'John', 'last_name': 'Doe'}\n",
    "dict1['first_name'] = 'Jane'\n",
    "print(dict1)"
   ]
  },
  {
   "cell_type": "code",
   "execution_count": 26,
   "metadata": {},
   "outputs": [
    {
     "name": "stdout",
     "output_type": "stream",
     "text": [
      "{'first_name': 'John', 'last_name': 'Doe', 'age': 32}\n"
     ]
    }
   ],
   "source": [
    "dict1 = {'first_name': 'John', 'last_name': 'Doe'}\n",
    "dict1['age'] = 32\n",
    "print(dict1)"
   ]
  },
  {
   "cell_type": "code",
   "execution_count": 29,
   "metadata": {},
   "outputs": [
    {
     "name": "stdout",
     "output_type": "stream",
     "text": [
      "{'first_name': 'John', 'last_name': 'Doe', 'age': 32, 'hobby': ['coding', 'studying']}\n"
     ]
    }
   ],
   "source": [
    "dict1 = {'first_name': 'John', 'last_name': 'Doe'}\n",
    "dict1.update({'age' : 32, 'hobby' : ['coding', 'studying']})\n",
    "print(dict1)"
   ]
  },
  {
   "cell_type": "code",
   "execution_count": 30,
   "metadata": {},
   "outputs": [
    {
     "name": "stdout",
     "output_type": "stream",
     "text": [
      "{'A': 'a'}\n"
     ]
    }
   ],
   "source": [
    "dict1 = {}\n",
    "str1 = input('str1=')\n",
    "str2 = input('str2=')\n",
    "dict1[str1] = str2\n",
    "print(dict1)"
   ]
  },
  {
   "cell_type": "code",
   "execution_count": 32,
   "metadata": {},
   "outputs": [
    {
     "name": "stdout",
     "output_type": "stream",
     "text": [
      "{'first_name': 'John', 'last_name': 'Doe'}\n"
     ]
    }
   ],
   "source": [
    "dict1 = {'first_name': 'John', 'last_name': 'Doe', 'age': 32}\n",
    "del dict1['age']\n",
    "print(dict1)"
   ]
  },
  {
   "cell_type": "code",
   "execution_count": 35,
   "metadata": {},
   "outputs": [
    {
     "name": "stdout",
     "output_type": "stream",
     "text": [
      "{}\n"
     ]
    }
   ],
   "source": [
    "dict1 = {'first_name': 'John', 'last_name': 'Doe', 'age': 32}\n",
    "dict1.clear()\n",
    "print(dict1)"
   ]
  },
  {
   "cell_type": "code",
   "execution_count": 38,
   "metadata": {},
   "outputs": [
    {
     "name": "stdout",
     "output_type": "stream",
     "text": [
      "3\n"
     ]
    }
   ],
   "source": [
    "dict1 = {'first_name': 'John', 'last_name': 'Doe', 'age': 32}\n",
    "print(len(dict1.keys()))"
   ]
  },
  {
   "cell_type": "code",
   "execution_count": 39,
   "metadata": {},
   "outputs": [
    {
     "name": "stdout",
     "output_type": "stream",
     "text": [
      "True\n"
     ]
    }
   ],
   "source": [
    "dict1 = {'first_name': 'John', 'last_name': 'Doe', 'age': 32}\n",
    "str1 = input('str1=')\n",
    "print(str1 in dict1.keys())"
   ]
  },
  {
   "cell_type": "code",
   "execution_count": 44,
   "metadata": {},
   "outputs": [
    {
     "name": "stdout",
     "output_type": "stream",
     "text": [
      "str1= Jooo\n",
      "มีค่าความจริงคือ False\n"
     ]
    }
   ],
   "source": [
    "dict1 = {'first_name': 'John', 'last_name': 'Doe', 'age': 32}\n",
    "str1 = input('str1=')\n",
    "print('str1=', str1)\n",
    "print('มีค่าความจริงคือ', str1 in dict1.values())"
   ]
  },
  {
   "cell_type": "code",
   "execution_count": 45,
   "metadata": {},
   "outputs": [
    {
     "name": "stdout",
     "output_type": "stream",
     "text": [
      "{1, 2, 3, 'ii', 'i', 'iii'}\n",
      "<class 'set'>\n"
     ]
    }
   ],
   "source": [
    "set1 = {1, 2, 3, 'i', 'ii', 'iii'}\n",
    "print(set1)\n",
    "print(type(set1))"
   ]
  },
  {
   "cell_type": "code",
   "execution_count": 47,
   "metadata": {},
   "outputs": [
    {
     "name": "stdout",
     "output_type": "stream",
     "text": [
      "1\n",
      "2\n",
      "3\n",
      "ii\n",
      "i\n",
      "iii\n"
     ]
    }
   ],
   "source": [
    "set1 = {1, 2, 3, 'i', 'ii', 'iii'}\n",
    "for s in set1 : print(s)"
   ]
  },
  {
   "cell_type": "code",
   "execution_count": 50,
   "metadata": {},
   "outputs": [
    {
     "name": "stdout",
     "output_type": "stream",
     "text": [
      "1\n",
      "2\n",
      "3\n",
      "ii\n",
      "iv\n",
      "i\n",
      "iii\n"
     ]
    }
   ],
   "source": [
    "set1 = {1, 2, 3, 'i', 'ii', 'iii'}\n",
    "set1.add('iv')\n",
    "for x in set1 : print(x)"
   ]
  },
  {
   "cell_type": "code",
   "execution_count": 51,
   "metadata": {},
   "outputs": [
    {
     "name": "stdout",
     "output_type": "stream",
     "text": [
      "{1, 2, 3, 'ii', 'i', 'iii'}\n"
     ]
    }
   ],
   "source": [
    "set1 = {1, 2, 3, 'i', 'ii', 'iii'}\n",
    "set1.add(1)\n",
    "print(set1)"
   ]
  },
  {
   "cell_type": "code",
   "execution_count": 55,
   "metadata": {},
   "outputs": [
    {
     "name": "stdout",
     "output_type": "stream",
     "text": [
      "{'ii', '1', '2'}\n"
     ]
    }
   ],
   "source": [
    "set1 = set()\n",
    "str1 = input('str1=')\n",
    "str2 = input('str2=')\n",
    "str3 = input('str3=')\n",
    "set1.add(str1)\n",
    "set1.add(str2)\n",
    "set1.add(str3)\n",
    "print(set1)"
   ]
  },
  {
   "cell_type": "code",
   "execution_count": 58,
   "metadata": {},
   "outputs": [
    {
     "name": "stdout",
     "output_type": "stream",
     "text": [
      "{'1', '2', 'p'}\n"
     ]
    }
   ],
   "source": [
    "set1 = set()\n",
    "str1 = input('str1=')\n",
    "str2 = input('str2=')\n",
    "str3 = input('str3=')\n",
    "set1.update({str1, str2, str3})\n",
    "print(set1)"
   ]
  },
  {
   "cell_type": "code",
   "execution_count": 1,
   "metadata": {},
   "outputs": [
    {
     "name": "stdout",
     "output_type": "stream",
     "text": [
      "{'iii', 1, 2, 3, 'ii'}\n"
     ]
    }
   ],
   "source": [
    "set1 = {1, 2, 3, 'i', 'ii', 'iii'}\n",
    "set1.remove('i')\n",
    "print(set1)"
   ]
  },
  {
   "cell_type": "code",
   "execution_count": 4,
   "metadata": {},
   "outputs": [
    {
     "name": "stdout",
     "output_type": "stream",
     "text": [
      "6\n"
     ]
    }
   ],
   "source": [
    "set1 = {1, 2, 3, 'i', 'ii', 'iii'}\n",
    "print(len(set1))"
   ]
  },
  {
   "cell_type": "code",
   "execution_count": 7,
   "metadata": {},
   "outputs": [
    {
     "name": "stdout",
     "output_type": "stream",
     "text": [
      "False\n"
     ]
    }
   ],
   "source": [
    "set1 = {1, 2, 3, 'i', 'ii', 'iii'}\n",
    "int1 = int(input('int1='))\n",
    "print(int1 in set1)"
   ]
  },
  {
   "cell_type": "code",
   "execution_count": 8,
   "metadata": {},
   "outputs": [
    {
     "name": "stdout",
     "output_type": "stream",
     "text": [
      "{1, 2, 3, 4, 5, 6}\n"
     ]
    }
   ],
   "source": [
    "set1 = {1, 2, 3, 4, 5}\n",
    "set2 = {3, 4, 5, 6}\n",
    "print(set1 | set2)"
   ]
  },
  {
   "cell_type": "code",
   "execution_count": 9,
   "metadata": {},
   "outputs": [
    {
     "name": "stdout",
     "output_type": "stream",
     "text": [
      "{3, 4, 5}\n"
     ]
    }
   ],
   "source": [
    "set1 = {1, 2, 3, 4, 5}\n",
    "set2 = {3, 4, 5, 6}\n",
    "print(set1 & set2)"
   ]
  },
  {
   "cell_type": "code",
   "execution_count": 10,
   "metadata": {},
   "outputs": [
    {
     "name": "stdout",
     "output_type": "stream",
     "text": [
      "{1, 2}\n"
     ]
    }
   ],
   "source": [
    "set1 = {1, 2, 3, 4, 5}\n",
    "set2 = {3, 4, 5, 6}\n",
    "print(set1 - set2)"
   ]
  },
  {
   "cell_type": "code",
   "execution_count": 11,
   "metadata": {},
   "outputs": [
    {
     "name": "stdout",
     "output_type": "stream",
     "text": [
      "{6}\n"
     ]
    }
   ],
   "source": [
    "set1 = {1, 2, 3, 4, 5}\n",
    "set2 = {3, 4, 5, 6}\n",
    "print(set2 - set1)"
   ]
  },
  {
   "cell_type": "code",
   "execution_count": 12,
   "metadata": {},
   "outputs": [
    {
     "name": "stdout",
     "output_type": "stream",
     "text": [
      "{1, 2, 6}\n"
     ]
    }
   ],
   "source": [
    "set1 = {1, 2, 3, 4, 5}\n",
    "set2 = {3, 4, 5, 6}\n",
    "print(set1 ^ set2)"
   ]
  },
  {
   "cell_type": "code",
   "execution_count": 14,
   "metadata": {},
   "outputs": [
    {
     "data": {
      "text/plain": [
       "34"
      ]
     },
     "execution_count": 14,
     "metadata": {},
     "output_type": "execute_result"
    }
   ],
   "source": [
    "2**3+5*7-9"
   ]
  },
  {
   "cell_type": "code",
   "execution_count": 15,
   "metadata": {},
   "outputs": [
    {
     "data": {
      "text/plain": [
       "3"
      ]
     },
     "execution_count": 15,
     "metadata": {},
     "output_type": "execute_result"
    }
   ],
   "source": [
    "7%2**2"
   ]
  },
  {
   "cell_type": "code",
   "execution_count": 17,
   "metadata": {},
   "outputs": [
    {
     "data": {
      "text/plain": [
       "60"
      ]
     },
     "execution_count": 17,
     "metadata": {},
     "output_type": "execute_result"
    }
   ],
   "source": [
    "5*2**3+4*5"
   ]
  },
  {
   "cell_type": "code",
   "execution_count": 19,
   "metadata": {},
   "outputs": [
    {
     "name": "stdout",
     "output_type": "stream",
     "text": [
      "8.0\n"
     ]
    }
   ],
   "source": [
    "y = 2**4**1/2\n",
    "print(y)"
   ]
  },
  {
   "cell_type": "code",
   "execution_count": 21,
   "metadata": {},
   "outputs": [
    {
     "name": "stdout",
     "output_type": "stream",
     "text": [
      "False\n"
     ]
    }
   ],
   "source": [
    "y = 2*4-15\n",
    "print(y >= 1)"
   ]
  },
  {
   "cell_type": "code",
   "execution_count": 7,
   "metadata": {},
   "outputs": [
    {
     "name": "stdout",
     "output_type": "stream",
     "text": [
      "เลขคู่\n"
     ]
    }
   ],
   "source": [
    "number = int(input('number='))\n",
    "if number%2 == 0 :\n",
    "    print('เลขคู่')\n",
    "else :\n",
    "    print('เลขคี่')"
   ]
  },
  {
   "cell_type": "code",
   "execution_count": 9,
   "metadata": {},
   "outputs": [
    {
     "name": "stdout",
     "output_type": "stream",
     "text": [
      "น้อยกว่าหรือเท่ากับ0\n"
     ]
    }
   ],
   "source": [
    "number = int(input('number='))\n",
    "if number > 0 :\n",
    "    print('มากกว่า0')\n",
    "else :\n",
    "    print('น้อยกว่าหรือเท่ากับ0') "
   ]
  },
  {
   "cell_type": "code",
   "execution_count": 14,
   "metadata": {},
   "outputs": [
    {
     "name": "stdout",
     "output_type": "stream",
     "text": [
      "Nagative\n"
     ]
    }
   ],
   "source": [
    "input_int = int(input())\n",
    "if input_int > 0 :\n",
    "    print(\"positive\")\n",
    "elif input_int < 0:\n",
    "    print(\"nagative\")\n",
    "else :\n",
    "    print(\"Zero\")"
   ]
  },
  {
   "cell_type": "code",
   "execution_count": 21,
   "metadata": {},
   "outputs": [
    {
     "name": "stdout",
     "output_type": "stream",
     "text": [
      "negative even\n"
     ]
    }
   ],
   "source": [
    "number = int(input('Number='))\n",
    "if number > 0 :\n",
    "    if number %2 == 0 :\n",
    "        print('positive even')\n",
    "    else :\n",
    "        print('positive odd')\n",
    "elif number < 0 :\n",
    "    if number %2 == 0 :\n",
    "        print('negative even')\n",
    "    else:\n",
    "        print('negative odd')\n",
    "else :\n",
    "    print('zero')\n"
   ]
  },
  {
   "cell_type": "code",
   "execution_count": 2,
   "metadata": {},
   "outputs": [
    {
     "name": "stdout",
     "output_type": "stream",
     "text": [
      "9\n"
     ]
    }
   ],
   "source": [
    "width = int(input())\n",
    "length = int(input())\n",
    "if (width <= 0) or (length <= 0) :\n",
    "    print('กรุณากรอกจำนวนเต็มบวก')\n",
    "else :\n",
    "    area = width*length\n",
    "    print(area)"
   ]
  },
  {
   "cell_type": "code",
   "execution_count": 4,
   "metadata": {},
   "outputs": [
    {
     "name": "stdout",
     "output_type": "stream",
     "text": [
      "2547\n"
     ]
    }
   ],
   "source": [
    "number = int(input())\n",
    "if number >= 0 :\n",
    "    kis = number+543\n",
    "    print(kis)\n",
    "else :\n",
    "    print('กรุณากรอกข้อมูลที่มากกว่าหรือเท่ากับ0')"
   ]
  },
  {
   "cell_type": "code",
   "execution_count": 8,
   "metadata": {},
   "outputs": [
    {
     "name": "stdout",
     "output_type": "stream",
     "text": [
      "17.77777777777778\n"
     ]
    }
   ],
   "source": [
    "F = int(input())\n",
    "if F >= 32 :\n",
    "    C = (5*(F-32))/9\n",
    "    print(C)\n",
    "else :\n",
    "    print('cold')"
   ]
  },
  {
   "cell_type": "code",
   "execution_count": 11,
   "metadata": {},
   "outputs": [
    {
     "name": "stdout",
     "output_type": "stream",
     "text": [
      "106.1125\n"
     ]
    }
   ],
   "source": [
    "USD = float(input())\n",
    "if USD > 0 :\n",
    "    THB = USD*32.5\n",
    "    print(THB)\n",
    "else :\n",
    "    print(\"you don't have money\")"
   ]
  },
  {
   "cell_type": "code",
   "execution_count": 12,
   "metadata": {},
   "outputs": [
    {
     "name": "stdout",
     "output_type": "stream",
     "text": [
      "3.048780487804878\n",
      "0.9146341463414633\n"
     ]
    }
   ],
   "source": [
    "THB = float(input())\n",
    "if THB > 0 :\n",
    "    USD = THB/32.80\n",
    "    BANK = USD*0.30\n",
    "    print(USD) \n",
    "    print(BANK)\n",
    "else :\n",
    "    print(\"you don't have money\")"
   ]
  },
  {
   "cell_type": "code",
   "execution_count": 16,
   "metadata": {},
   "outputs": [
    {
     "name": "stdout",
     "output_type": "stream",
     "text": [
      "float1 น้อยกว่า float2\n"
     ]
    }
   ],
   "source": [
    "float1 = float(input())\n",
    "float2 = float(input())\n",
    "if float1 > float2 :\n",
    "    print('float1 มากกว่า float2')\n",
    "elif float1 < float2 :\n",
    "    print('float1 น้อยกว่า float2')\n",
    "else :\n",
    "    print('มีค่าเท่ากัน')"
   ]
  },
  {
   "cell_type": "code",
   "execution_count": 19,
   "metadata": {},
   "outputs": [
    {
     "name": "stdout",
     "output_type": "stream",
     "text": [
      "Not Same\n"
     ]
    }
   ],
   "source": [
    "str1 = str(input())\n",
    "str2 = str(input())\n",
    "if len(str1) == len(str2) :\n",
    "    print(\"Same\")\n",
    "else :\n",
    "    print(\"Not Same\")"
   ]
  },
  {
   "cell_type": "code",
   "execution_count": 21,
   "metadata": {},
   "outputs": [
    {
     "name": "stdout",
     "output_type": "stream",
     "text": [
      "หาร3ไม่ลงตัว\n"
     ]
    }
   ],
   "source": [
    "int1 = int(input())\n",
    "if int1 %3 == 0 :\n",
    "    print('หาร3ลงตัว')\n",
    "else :\n",
    "    print('หาร3ไม่ลงตัว')"
   ]
  },
  {
   "cell_type": "code",
   "execution_count": 26,
   "metadata": {},
   "outputs": [
    {
     "name": "stdout",
     "output_type": "stream",
     "text": [
      "หารด้วย3และ5ลงตัว\n"
     ]
    }
   ],
   "source": [
    "int1 = int(input())\n",
    "if int1 %3 == 0 and int1 %5 == 0 :\n",
    "    print('หารด้วย3และ5ลงตัว')\n",
    "else :\n",
    "    print('หารด้วย3และ5ไม่ลงตัว')"
   ]
  },
  {
   "cell_type": "code",
   "execution_count": 27,
   "metadata": {},
   "outputs": [
    {
     "name": "stdout",
     "output_type": "stream",
     "text": [
      "หารด้วย3หรือ5ลงตัว\n"
     ]
    }
   ],
   "source": [
    "int1 = int(input())\n",
    "if int1 % 3 == 0 or int1 % 5 == 0:\n",
    "    print('หารด้วย3หรือ5ลงตัว')\n",
    "else:\n",
    "    print('หารด้วย3หรือ5ไม่ลงตัว')"
   ]
  },
  {
   "cell_type": "code",
   "execution_count": 2,
   "metadata": {},
   "outputs": [
    {
     "name": "stdout",
     "output_type": "stream",
     "text": [
      "a + b > c\n"
     ]
    }
   ],
   "source": [
    "a = float(input('a='))\n",
    "b = float(input('b='))\n",
    "c = float(input('c='))\n",
    "if a + b > c :\n",
    "    print('a + b > c')"
   ]
  },
  {
   "cell_type": "code",
   "execution_count": 6,
   "metadata": {},
   "outputs": [
    {
     "name": "stdout",
     "output_type": "stream",
     "text": [
      "30\n"
     ]
    }
   ],
   "source": [
    "hour = int(input())\n",
    "minute = int(input())\n",
    "if minute > 0 :\n",
    "    hour = hour + 1\n",
    "fee = (hour - 1)*30\n",
    "print(fee)"
   ]
  },
  {
   "cell_type": "code",
   "execution_count": 8,
   "metadata": {},
   "outputs": [
    {
     "name": "stdout",
     "output_type": "stream",
     "text": [
      "30\n"
     ]
    }
   ],
   "source": [
    "hour = int(input())\n",
    "minute = int(input())\n",
    "if (hour < 0) or (minute < 0) :\n",
    "    print('โปรดใส่ข้อมูลที่ไม่ติดลบ')\n",
    "else :\n",
    "    if minute > 0 :\n",
    "        hour = hour + 1\n",
    "    fee = (hour-1)*30\n",
    "    print(fee)"
   ]
  },
  {
   "cell_type": "code",
   "execution_count": 16,
   "metadata": {},
   "outputs": [
    {
     "name": "stdout",
     "output_type": "stream",
     "text": [
      "150\n"
     ]
    }
   ],
   "source": [
    "bill = int(input())\n",
    "hour = int(input())\n",
    "minute = int(input())\n",
    "if minute > 0:\n",
    "    hour = hour + 1\n",
    "if bill >= 1000 :\n",
    "    fee = (hour-4)*30\n",
    "    if fee < 0 :\n",
    "        fee = 0\n",
    "else :\n",
    "    fee = (hour-1)*30\n",
    "print(fee)"
   ]
  },
  {
   "cell_type": "code",
   "execution_count": 10,
   "metadata": {},
   "outputs": [
    {
     "name": "stdout",
     "output_type": "stream",
     "text": [
      "160000.0\n"
     ]
    }
   ],
   "source": [
    "bill = float(input())\n",
    "if bill >= 50000 :\n",
    "    fee = bill - (0.2)*bill\n",
    "elif bill >= 10000 :\n",
    "    fee = bill - (0.15)*bill\n",
    "elif bill >= 1000 :\n",
    "    fee = bill - (0.1)*bill\n",
    "else :\n",
    "    fee = bill\n",
    "print(fee)"
   ]
  },
  {
   "cell_type": "code",
   "execution_count": 18,
   "metadata": {},
   "outputs": [
    {
     "name": "stdout",
     "output_type": "stream",
     "text": [
      "คุณควรออกกำลังกาย\n"
     ]
    }
   ],
   "source": [
    "gender = input()\n",
    "weight = float(input())\n",
    "height = int(input())\n",
    "if gender == 'ชาย' :\n",
    "    if weight > height-100 :\n",
    "        print('คุณควรออกกำลังกาย')\n",
    "    else :\n",
    "        print('คุณผู้ชายหุ่นดี')\n",
    "elif gender == 'หญิง' :\n",
    "    if weight > height-110:\n",
    "        print('คุณควรออกกำลังกาย')\n",
    "    else:\n",
    "        print('คุณผู้หญิงหุ่นดี')\n"
   ]
  },
  {
   "cell_type": "code",
   "execution_count": 20,
   "metadata": {},
   "outputs": [
    {
     "name": "stdout",
     "output_type": "stream",
     "text": [
      "ออกใบสั่ง\n"
     ]
    }
   ],
   "source": [
    "velocity = float(input())\n",
    "if velocity > 120 :\n",
    "    print('ออกใบสั่ง')"
   ]
  },
  {
   "cell_type": "code",
   "execution_count": 23,
   "metadata": {},
   "outputs": [],
   "source": [
    "velocity = float(input())\n",
    "if velocity > 120 :\n",
    "    print('ปรับ 1,000 บาท')\n",
    "elif velocity > 80 :\n",
    "    print('ปรับ 500 บาท')"
   ]
  },
  {
   "cell_type": "code",
   "execution_count": 25,
   "metadata": {},
   "outputs": [
    {
     "name": "stdout",
     "output_type": "stream",
     "text": [
      "ขอให้มีความสุขกับการฟังเพลง\n"
     ]
    }
   ],
   "source": [
    "listen_time = float(input())\n",
    "if listen_time > 4 :\n",
    "    print('อันตรายต่อหู')\n",
    "else :\n",
    "    print('ขอให้มีความสุขกับการฟังเพลง')"
   ]
  },
  {
   "cell_type": "code",
   "execution_count": 28,
   "metadata": {},
   "outputs": [
    {
     "name": "stdout",
     "output_type": "stream",
     "text": [
      "150.0\n"
     ]
    }
   ],
   "source": [
    "status = input()\n",
    "distance = float(input())\n",
    "if status == 'คล่องตัว' :\n",
    "    cost = distance*10\n",
    "elif status == 'ปานกลาง' :\n",
    "    cost = distance*12\n",
    "elif status == 'หนาแน่น' :\n",
    "    cost = distance*15\n",
    "print(cost)"
   ]
  },
  {
   "cell_type": "code",
   "execution_count": 29,
   "metadata": {},
   "outputs": [
    {
     "name": "stdout",
     "output_type": "stream",
     "text": [
      "Pass\n"
     ]
    }
   ],
   "source": [
    "score = int(input())\n",
    "if score >= 50 :\n",
    "    print('Pass')\n",
    "else :\n",
    "    print('Fail')"
   ]
  },
  {
   "cell_type": "code",
   "execution_count": 31,
   "metadata": {},
   "outputs": [
    {
     "name": "stdout",
     "output_type": "stream",
     "text": [
      "Fail\n"
     ]
    }
   ],
   "source": [
    "score = int(input())\n",
    "if score >= 80 :\n",
    "    print('A')\n",
    "elif score >= 70 :\n",
    "    print('B')\n",
    "elif score >= 60 :\n",
    "    print('C')\n",
    "elif score >= 50 :\n",
    "    print('D')\n",
    "else :\n",
    "    print('Fail')"
   ]
  },
  {
   "cell_type": "code",
   "execution_count": 2,
   "metadata": {},
   "outputs": [
    {
     "name": "stdout",
     "output_type": "stream",
     "text": [
      "1500.0\n"
     ]
    }
   ],
   "source": [
    "isMember = input()\n",
    "bill = int(input())\n",
    "if isMember == 'yes' :\n",
    "    if bill >= 5000 :\n",
    "        A = 0.15*bill\n",
    "    elif bill >= 1000 :\n",
    "        A = 0.10*bill\n",
    "    elif bill >= 500 :\n",
    "        A = 0.05*bill\n",
    "    else :\n",
    "        A = 0\n",
    "    print(A)\n",
    "elif isMember == 'no' :\n",
    "    A = 0\n",
    "    print(A)"
   ]
  },
  {
   "cell_type": "code",
   "execution_count": 7,
   "metadata": {},
   "outputs": [
    {
     "name": "stdout",
     "output_type": "stream",
     "text": [
      "8.7\n"
     ]
    }
   ],
   "source": [
    "currency = input()\n",
    "amount = float(input())\n",
    "if currency == 'USD' :\n",
    "    THB = amount*32.5\n",
    "elif currency == 'JPY' :\n",
    "    THB = amount*0.29\n",
    "print(THB)"
   ]
  },
  {
   "cell_type": "code",
   "execution_count": 11,
   "metadata": {},
   "outputs": [
    {
     "name": "stdout",
     "output_type": "stream",
     "text": [
      "14\n"
     ]
    }
   ],
   "source": [
    "order = input()\n",
    "amount = int(input())\n",
    "if order == 'ไข่ดาว' :\n",
    "    cost = amount*7\n",
    "    print(cost)\n",
    "elif order == 'ไข่เจียว' :\n",
    "    cost = amount*10\n",
    "    print(cost)\n",
    "elif cost == 'ไข่ต้ม' :\n",
    "    cost = amoust*5\n",
    "    print(cost)\n",
    "else :\n",
    "    print('ร้านเรามี ไข่ดาว,ไข่เจียว,ไข่ต้ม')"
   ]
  },
  {
   "cell_type": "code",
   "execution_count": 14,
   "metadata": {},
   "outputs": [
    {
     "name": "stdout",
     "output_type": "stream",
     "text": [
      "แนะนำให้สั่งคู่กับยำไข่ดาว\n"
     ]
    }
   ],
   "source": [
    "order = input()\n",
    "if order == 'ไข่ดาว' :\n",
    "    print('แนะนำให้สั่งคู่กับต้มจืดไข่น้ำ')\n",
    "elif order == 'ไข่เจียว' :\n",
    "    print('แนะนำให้สั่งคู่กับไข่ลูกเขย')\n",
    "elif order == 'ไข่ต้ม' :\n",
    "    print('แนะนำให้สั่งคู่กับยำไข่ดาว')\n",
    "else :\n",
    "    print('ร้านเรามี ไข่ดาว, ไข่เจียว, ไข่ต้ม')"
   ]
  },
  {
   "cell_type": "code",
   "execution_count": 15,
   "metadata": {},
   "outputs": [
    {
     "name": "stdout",
     "output_type": "stream",
     "text": [
      "0\n",
      "1\n",
      "2\n",
      "3\n",
      "4\n",
      "5\n",
      "6\n",
      "7\n",
      "8\n",
      "9\n",
      "10\n",
      "0\n",
      "1\n",
      "2\n",
      "3\n",
      "4\n",
      "5\n",
      "6\n",
      "7\n",
      "8\n",
      "9\n",
      "10\n"
     ]
    }
   ],
   "source": [
    "for i in range(11):\n",
    "    print(i)\n",
    "\n",
    "i = 0\n",
    "while i <= 10:\n",
    "    print(i)\n",
    "    i = i+1"
   ]
  },
  {
   "cell_type": "code",
   "execution_count": 16,
   "metadata": {},
   "outputs": [
    {
     "name": "stdout",
     "output_type": "stream",
     "text": [
      "1\n",
      "2\n",
      "3\n",
      "4\n",
      "5\n",
      "6\n",
      "7\n",
      "8\n",
      "9\n",
      "10\n",
      "1\n",
      "2\n",
      "3\n",
      "4\n",
      "5\n",
      "6\n",
      "7\n",
      "8\n",
      "9\n",
      "10\n"
     ]
    }
   ],
   "source": [
    "for i in range(1, 11) :\n",
    "    print(i)\n",
    "\n",
    "i = 1\n",
    "while i <= 10 :\n",
    "    print(i)\n",
    "    i = i+1"
   ]
  },
  {
   "cell_type": "code",
   "execution_count": 1,
   "metadata": {},
   "outputs": [
    {
     "name": "stdout",
     "output_type": "stream",
     "text": [
      "3\n",
      "4\n",
      "5\n",
      "6\n",
      "7\n",
      "8\n",
      "9\n",
      "10\n",
      "11\n",
      "12\n",
      "13\n",
      "3\n",
      "4\n",
      "5\n",
      "6\n",
      "7\n",
      "8\n",
      "9\n",
      "10\n",
      "11\n",
      "12\n",
      "13\n"
     ]
    }
   ],
   "source": [
    "for i in range(3, 14) :\n",
    "    print(i)\n",
    "\n",
    "i = 3\n",
    "while i <= 13 :\n",
    "    print(i)\n",
    "    i = i+1"
   ]
  },
  {
   "cell_type": "code",
   "execution_count": 3,
   "metadata": {},
   "outputs": [
    {
     "name": "stdout",
     "output_type": "stream",
     "text": [
      "-3\n",
      "-2\n",
      "-1\n",
      "0\n",
      "1\n",
      "2\n",
      "3\n",
      "4\n",
      "-3\n",
      "-2\n",
      "-1\n",
      "0\n",
      "1\n",
      "2\n",
      "3\n",
      "4\n"
     ]
    }
   ],
   "source": [
    "for i in range(-3, 5) :\n",
    "    print(i)\n",
    "\n",
    "i = -3\n",
    "while i <= 4 :\n",
    "    print(i)\n",
    "    i = i+1"
   ]
  },
  {
   "cell_type": "code",
   "execution_count": 4,
   "metadata": {},
   "outputs": [
    {
     "name": "stdout",
     "output_type": "stream",
     "text": [
      "-6\n",
      "-5\n",
      "-4\n",
      "-3\n",
      "-2\n",
      "-1\n",
      "0\n",
      "-6\n",
      "-5\n",
      "-4\n",
      "-3\n",
      "-2\n",
      "-1\n",
      "0\n"
     ]
    }
   ],
   "source": [
    "for i in range(-6, 1) :\n",
    "    print(i)\n",
    "\n",
    "i = -6\n",
    "while i <= 0 :\n",
    "    print(i)\n",
    "    i = i+1"
   ]
  },
  {
   "cell_type": "code",
   "execution_count": 6,
   "metadata": {},
   "outputs": [
    {
     "name": "stdout",
     "output_type": "stream",
     "text": [
      "-14\n",
      "-13\n",
      "-12\n",
      "-11\n",
      "-10\n",
      "-9\n",
      "-8\n",
      "-7\n",
      "-14\n",
      "-13\n",
      "-12\n",
      "-11\n",
      "-10\n",
      "-9\n",
      "-8\n",
      "-7\n"
     ]
    }
   ],
   "source": [
    "for i in range(-14, -6) :\n",
    "    print(i)\n",
    "\n",
    "i = -14\n",
    "while i <= -7 :\n",
    "    print(i)\n",
    "    i = i+1"
   ]
  },
  {
   "cell_type": "code",
   "execution_count": 7,
   "metadata": {},
   "outputs": [
    {
     "name": "stdout",
     "output_type": "stream",
     "text": [
      "0\n",
      "2\n",
      "4\n",
      "6\n",
      "8\n",
      "10\n",
      "12\n",
      "0\n",
      "2\n",
      "4\n",
      "6\n",
      "8\n",
      "10\n",
      "12\n"
     ]
    }
   ],
   "source": [
    "for i in range(0, 13, 2) :\n",
    "    print(i)\n",
    "\n",
    "i = 0\n",
    "while i <= 12 :\n",
    "    print(i)\n",
    "    i = i+2"
   ]
  },
  {
   "cell_type": "code",
   "execution_count": 8,
   "metadata": {},
   "outputs": [
    {
     "name": "stdout",
     "output_type": "stream",
     "text": [
      "0\n",
      "1\n",
      "2\n",
      "3\n",
      "4\n",
      "5\n",
      "6\n",
      "7\n",
      "8\n",
      "9\n",
      "10\n",
      "0\n",
      "1\n",
      "2\n",
      "3\n",
      "4\n",
      "5\n",
      "6\n",
      "7\n",
      "8\n",
      "9\n",
      "10\n"
     ]
    }
   ],
   "source": [
    "for i in range(0, 11, 1) :\n",
    "    print(i)\n",
    "\n",
    "i = 0\n",
    "while i <= 10 :\n",
    "    print(i)\n",
    "    i = i+1"
   ]
  },
  {
   "cell_type": "code",
   "execution_count": 10,
   "metadata": {},
   "outputs": [
    {
     "name": "stdout",
     "output_type": "stream",
     "text": [
      "6\n",
      "9\n",
      "12\n",
      "15\n",
      "6\n",
      "9\n",
      "12\n",
      "15\n"
     ]
    }
   ],
   "source": [
    "for i in range(6, 16, 3) :\n",
    "    print(i)\n",
    "\n",
    "i = 6\n",
    "while i <= 15 :\n",
    "    print(i)\n",
    "    i = i+3"
   ]
  },
  {
   "cell_type": "code",
   "execution_count": 1,
   "metadata": {},
   "outputs": [
    {
     "name": "stdout",
     "output_type": "stream",
     "text": [
      "-16\n",
      "-12\n",
      "-8\n",
      "-4\n",
      "0\n",
      "4\n",
      "-16\n",
      "-12\n",
      "-8\n",
      "-4\n",
      "0\n",
      "4\n"
     ]
    }
   ],
   "source": [
    "for i in range(-16, 5, 4) :\n",
    "    print(i)\n",
    "\n",
    "i = -16\n",
    "while i <= 4 :\n",
    "    print(i)\n",
    "    i = i+4"
   ]
  },
  {
   "cell_type": "code",
   "execution_count": 3,
   "metadata": {},
   "outputs": [
    {
     "name": "stdout",
     "output_type": "stream",
     "text": [
      "7\n",
      "6\n",
      "5\n",
      "4\n",
      "7\n",
      "6\n",
      "5\n",
      "4\n"
     ]
    }
   ],
   "source": [
    "for i in range(7, 3, -1) :\n",
    "    print(i)\n",
    "\n",
    "i = 7\n",
    "while i >= 4 :\n",
    "    print(i)\n",
    "    i = i-1"
   ]
  },
  {
   "cell_type": "code",
   "execution_count": 4,
   "metadata": {},
   "outputs": [
    {
     "name": "stdout",
     "output_type": "stream",
     "text": [
      "8\n",
      "7\n",
      "6\n",
      "5\n",
      "4\n",
      "3\n",
      "2\n",
      "1\n",
      "0\n",
      "8\n",
      "7\n",
      "6\n",
      "5\n",
      "4\n",
      "3\n",
      "2\n",
      "1\n",
      "0\n"
     ]
    }
   ],
   "source": [
    "for i in range(8, -1, -1) :\n",
    "    print(i)\n",
    "\n",
    "i = 8\n",
    "while i >= 0 :\n",
    "    print(i)\n",
    "    i = i-1"
   ]
  },
  {
   "cell_type": "code",
   "execution_count": 5,
   "metadata": {},
   "outputs": [
    {
     "name": "stdout",
     "output_type": "stream",
     "text": [
      "8\n",
      "7\n",
      "6\n",
      "5\n",
      "4\n",
      "3\n",
      "2\n",
      "1\n",
      "0\n",
      "-1\n",
      "8\n",
      "7\n",
      "6\n",
      "5\n",
      "4\n",
      "3\n",
      "2\n",
      "1\n",
      "0\n",
      "-1\n"
     ]
    }
   ],
   "source": [
    "for i in range(8, -2, -1) :\n",
    "    print(i)\n",
    "\n",
    "i = 8\n",
    "while i >= -1 :\n",
    "    print(i)\n",
    "    i = i-1"
   ]
  },
  {
   "cell_type": "code",
   "execution_count": 6,
   "metadata": {},
   "outputs": [
    {
     "name": "stdout",
     "output_type": "stream",
     "text": [
      "-2\n",
      "-3\n",
      "-4\n",
      "-5\n",
      "-6\n",
      "-7\n",
      "-8\n",
      "-2\n",
      "-3\n",
      "-4\n",
      "-5\n",
      "-6\n",
      "-7\n",
      "-8\n"
     ]
    }
   ],
   "source": [
    "for i in range(-2, -9, -1):\n",
    "    print(i)\n",
    "\n",
    "i = -2\n",
    "while i >= -8 :\n",
    "    print(i)\n",
    "    i = i-1"
   ]
  },
  {
   "cell_type": "code",
   "execution_count": 7,
   "metadata": {},
   "outputs": [
    {
     "name": "stdout",
     "output_type": "stream",
     "text": [
      "12\n",
      "9\n",
      "6\n",
      "3\n",
      "0\n",
      "-3\n",
      "12\n",
      "9\n",
      "6\n",
      "3\n",
      "0\n",
      "-3\n"
     ]
    }
   ],
   "source": [
    "for i in range(12, -4, -3) :\n",
    "    print(i)\n",
    "\n",
    "i = 12\n",
    "while i >= -3 :\n",
    "    print(i)\n",
    "    i = i-3"
   ]
  },
  {
   "cell_type": "code",
   "execution_count": 8,
   "metadata": {},
   "outputs": [
    {
     "name": "stdout",
     "output_type": "stream",
     "text": [
      "20\n",
      "15\n",
      "10\n",
      "5\n",
      "0\n",
      "20\n",
      "15\n",
      "10\n",
      "5\n",
      "0\n"
     ]
    }
   ],
   "source": [
    "for i in range(20, -4, -5) :\n",
    "    print(i)\n",
    "\n",
    "i = 20\n",
    "while i >= -3 :\n",
    "    print(i)\n",
    "    i = i-5"
   ]
  },
  {
   "cell_type": "code",
   "execution_count": 9,
   "metadata": {},
   "outputs": [
    {
     "name": "stdout",
     "output_type": "stream",
     "text": [
      "-5 2\n",
      "-5 5\n",
      "-5 8\n",
      "-5 11\n",
      "-3 2\n",
      "-3 5\n",
      "-3 8\n",
      "-3 11\n",
      "-1 2\n",
      "-1 5\n",
      "-1 8\n",
      "-1 11\n",
      "1 2\n",
      "1 5\n",
      "1 8\n",
      "1 11\n",
      "3 2\n",
      "3 5\n",
      "3 8\n",
      "3 11\n"
     ]
    }
   ],
   "source": [
    "for i in range(-5, 5, 2):\n",
    "    for j in range(2, 12, 3):\n",
    "        print(i, j)"
   ]
  },
  {
   "cell_type": "code",
   "execution_count": 13,
   "metadata": {},
   "outputs": [
    {
     "name": "stdout",
     "output_type": "stream",
     "text": [
      "-5 2\n",
      "-5 5\n",
      "-5 8\n",
      "-5 11\n",
      "-3 2\n",
      "-3 5\n",
      "-3 8\n",
      "-3 11\n",
      "-1 2\n",
      "-1 5\n",
      "-1 8\n",
      "-1 11\n",
      "1 2\n",
      "1 5\n",
      "1 8\n",
      "1 11\n",
      "3 2\n",
      "3 5\n",
      "3 8\n",
      "3 11\n"
     ]
    }
   ],
   "source": [
    "i = -5\n",
    "while i <= 4 :\n",
    "    j = 2\n",
    "    while j <= 11 :\n",
    "        print(i, j)\n",
    "        j = j+3\n",
    "    i = i+2"
   ]
  },
  {
   "cell_type": "code",
   "execution_count": 14,
   "metadata": {},
   "outputs": [
    {
     "name": "stdout",
     "output_type": "stream",
     "text": [
      "0 4\n",
      "0 3\n",
      "0 2\n",
      "0 1\n",
      "0 0\n",
      "0 -1\n",
      "0 -2\n",
      "0 -3\n",
      "0 -4\n",
      "0 -5\n",
      "0 -6\n",
      "1 4\n",
      "1 3\n",
      "1 2\n",
      "1 1\n",
      "1 0\n",
      "1 -1\n",
      "1 -2\n",
      "1 -3\n",
      "1 -4\n",
      "1 -5\n",
      "1 -6\n",
      "2 4\n",
      "2 3\n",
      "2 2\n",
      "2 1\n",
      "2 0\n",
      "2 -1\n",
      "2 -2\n",
      "2 -3\n",
      "2 -4\n",
      "2 -5\n",
      "2 -6\n",
      "3 4\n",
      "3 3\n",
      "3 2\n",
      "3 1\n",
      "3 0\n",
      "3 -1\n",
      "3 -2\n",
      "3 -3\n",
      "3 -4\n",
      "3 -5\n",
      "3 -6\n",
      "4 4\n",
      "4 3\n",
      "4 2\n",
      "4 1\n",
      "4 0\n",
      "4 -1\n",
      "4 -2\n",
      "4 -3\n",
      "4 -4\n",
      "4 -5\n",
      "4 -6\n",
      "5 4\n",
      "5 3\n",
      "5 2\n",
      "5 1\n",
      "5 0\n",
      "5 -1\n",
      "5 -2\n",
      "5 -3\n",
      "5 -4\n",
      "5 -5\n",
      "5 -6\n"
     ]
    }
   ],
   "source": [
    "for i in range(0, 6, 1) :\n",
    "    for j in range(4, -7, -1) :\n",
    "        print(i, j)"
   ]
  },
  {
   "cell_type": "code",
   "execution_count": 15,
   "metadata": {},
   "outputs": [
    {
     "name": "stdout",
     "output_type": "stream",
     "text": [
      "0 4\n",
      "0 3\n",
      "0 2\n",
      "0 1\n",
      "0 0\n",
      "0 -1\n",
      "0 -2\n",
      "0 -3\n",
      "0 -4\n",
      "0 -5\n",
      "0 -6\n",
      "1 4\n",
      "1 3\n",
      "1 2\n",
      "1 1\n",
      "1 0\n",
      "1 -1\n",
      "1 -2\n",
      "1 -3\n",
      "1 -4\n",
      "1 -5\n",
      "1 -6\n",
      "2 4\n",
      "2 3\n",
      "2 2\n",
      "2 1\n",
      "2 0\n",
      "2 -1\n",
      "2 -2\n",
      "2 -3\n",
      "2 -4\n",
      "2 -5\n",
      "2 -6\n",
      "3 4\n",
      "3 3\n",
      "3 2\n",
      "3 1\n",
      "3 0\n",
      "3 -1\n",
      "3 -2\n",
      "3 -3\n",
      "3 -4\n",
      "3 -5\n",
      "3 -6\n",
      "4 4\n",
      "4 3\n",
      "4 2\n",
      "4 1\n",
      "4 0\n",
      "4 -1\n",
      "4 -2\n",
      "4 -3\n",
      "4 -4\n",
      "4 -5\n",
      "4 -6\n",
      "5 4\n",
      "5 3\n",
      "5 2\n",
      "5 1\n",
      "5 0\n",
      "5 -1\n",
      "5 -2\n",
      "5 -3\n",
      "5 -4\n",
      "5 -5\n",
      "5 -6\n"
     ]
    }
   ],
   "source": [
    "i = 0\n",
    "while i <= 5 :\n",
    "    j = 4\n",
    "    while j >= -6 :\n",
    "        print(i, j)\n",
    "        j = j-1\n",
    "    i = i+1"
   ]
  },
  {
   "cell_type": "code",
   "execution_count": 16,
   "metadata": {},
   "outputs": [
    {
     "name": "stdout",
     "output_type": "stream",
     "text": [
      "11 -7\n",
      "11 -6\n",
      "11 -5\n",
      "11 -4\n",
      "11 -3\n",
      "11 -2\n",
      "11 -1\n",
      "11 0\n",
      "9 -7\n",
      "9 -6\n",
      "9 -5\n",
      "9 -4\n",
      "9 -3\n",
      "9 -2\n",
      "9 -1\n",
      "9 0\n",
      "7 -7\n",
      "7 -6\n",
      "7 -5\n",
      "7 -4\n",
      "7 -3\n",
      "7 -2\n",
      "7 -1\n",
      "7 0\n",
      "5 -7\n",
      "5 -6\n",
      "5 -5\n",
      "5 -4\n",
      "5 -3\n",
      "5 -2\n",
      "5 -1\n",
      "5 0\n",
      "3 -7\n",
      "3 -6\n",
      "3 -5\n",
      "3 -4\n",
      "3 -3\n",
      "3 -2\n",
      "3 -1\n",
      "3 0\n",
      "1 -7\n",
      "1 -6\n",
      "1 -5\n",
      "1 -4\n",
      "1 -3\n",
      "1 -2\n",
      "1 -1\n",
      "1 0\n"
     ]
    }
   ],
   "source": [
    "for i in range(11 , -1, -2):\n",
    "    for j in range(-7, 1, 1):\n",
    "        print(i, j)"
   ]
  },
  {
   "cell_type": "code",
   "execution_count": 17,
   "metadata": {},
   "outputs": [
    {
     "name": "stdout",
     "output_type": "stream",
     "text": [
      "11 -7\n",
      "11 -6\n",
      "11 -5\n",
      "11 -4\n",
      "11 -3\n",
      "11 -2\n",
      "11 -1\n",
      "11 0\n",
      "9 -7\n",
      "9 -6\n",
      "9 -5\n",
      "9 -4\n",
      "9 -3\n",
      "9 -2\n",
      "9 -1\n",
      "9 0\n",
      "7 -7\n",
      "7 -6\n",
      "7 -5\n",
      "7 -4\n",
      "7 -3\n",
      "7 -2\n",
      "7 -1\n",
      "7 0\n",
      "5 -7\n",
      "5 -6\n",
      "5 -5\n",
      "5 -4\n",
      "5 -3\n",
      "5 -2\n",
      "5 -1\n",
      "5 0\n",
      "3 -7\n",
      "3 -6\n",
      "3 -5\n",
      "3 -4\n",
      "3 -3\n",
      "3 -2\n",
      "3 -1\n",
      "3 0\n",
      "1 -7\n",
      "1 -6\n",
      "1 -5\n",
      "1 -4\n",
      "1 -3\n",
      "1 -2\n",
      "1 -1\n",
      "1 0\n"
     ]
    }
   ],
   "source": [
    "i = 11\n",
    "while i >= 0 :\n",
    "    j = -7\n",
    "    while j <= 0 :\n",
    "        print(i, j)\n",
    "        j = j+1\n",
    "    i = i-2"
   ]
  },
  {
   "cell_type": "code",
   "execution_count": 8,
   "metadata": {},
   "outputs": [
    {
     "name": "stdout",
     "output_type": "stream",
     "text": [
      "11 -7\n",
      "11 -6\n",
      "11 -5\n",
      "11 -4\n",
      "11 -3\n",
      "11 -2\n",
      "11 -1\n",
      "11 0\n",
      "9 -7\n",
      "9 -6\n",
      "9 -5\n",
      "9 -4\n",
      "9 -3\n",
      "9 -2\n",
      "9 -1\n",
      "9 0\n",
      "7 -7\n",
      "7 -6\n",
      "7 -5\n",
      "7 -4\n",
      "7 -3\n",
      "7 -2\n",
      "7 -1\n",
      "7 0\n",
      "5 -7\n",
      "5 -6\n",
      "5 -5\n",
      "5 -4\n",
      "5 -3\n",
      "5 -2\n",
      "5 -1\n",
      "5 0\n",
      "3 -7\n",
      "3 -6\n",
      "3 -5\n",
      "3 -4\n",
      "3 -3\n",
      "3 -2\n",
      "3 -1\n",
      "3 0\n",
      "1 -7\n",
      "1 -6\n",
      "1 -5\n",
      "1 -4\n",
      "1 -3\n",
      "1 -2\n",
      "1 -1\n",
      "1 0\n"
     ]
    }
   ],
   "source": [
    "for i in range(11, -1, -2):\n",
    "    for j in range(-7, 1, 1):\n",
    "        print(i, j)"
   ]
  },
  {
   "cell_type": "code",
   "execution_count": 9,
   "metadata": {},
   "outputs": [
    {
     "name": "stdout",
     "output_type": "stream",
     "text": [
      "11 -7\n",
      "11 -6\n",
      "11 -5\n",
      "11 -4\n",
      "11 -3\n",
      "11 -2\n",
      "11 -1\n",
      "11 0\n",
      "9 -7\n",
      "9 -6\n",
      "9 -5\n",
      "9 -4\n",
      "9 -3\n",
      "9 -2\n",
      "9 -1\n",
      "9 0\n",
      "7 -7\n",
      "7 -6\n",
      "7 -5\n",
      "7 -4\n",
      "7 -3\n",
      "7 -2\n",
      "7 -1\n",
      "7 0\n",
      "5 -7\n",
      "5 -6\n",
      "5 -5\n",
      "5 -4\n",
      "5 -3\n",
      "5 -2\n",
      "5 -1\n",
      "5 0\n",
      "3 -7\n",
      "3 -6\n",
      "3 -5\n",
      "3 -4\n",
      "3 -3\n",
      "3 -2\n",
      "3 -1\n",
      "3 0\n",
      "1 -7\n",
      "1 -6\n",
      "1 -5\n",
      "1 -4\n",
      "1 -3\n",
      "1 -2\n",
      "1 -1\n",
      "1 0\n"
     ]
    }
   ],
   "source": [
    "i = 11\n",
    "while i >= 0:\n",
    "    j = -7\n",
    "    while j <= 0:\n",
    "        print(i, j)\n",
    "        j = j+1\n",
    "    i = i-2"
   ]
  },
  {
   "cell_type": "code",
   "execution_count": 1,
   "metadata": {},
   "outputs": [
    {
     "name": "stdout",
     "output_type": "stream",
     "text": [
      "14 5\n",
      "14 4\n",
      "14 3\n",
      "14 2\n",
      "14 1\n",
      "14 0\n",
      "14 -1\n",
      "14 -2\n",
      "14 -3\n",
      "13 5\n",
      "13 4\n",
      "13 3\n",
      "13 2\n",
      "13 1\n",
      "13 0\n",
      "13 -1\n",
      "13 -2\n",
      "13 -3\n",
      "12 5\n",
      "12 4\n",
      "12 3\n",
      "12 2\n",
      "12 1\n",
      "12 0\n",
      "12 -1\n",
      "12 -2\n",
      "12 -3\n",
      "11 5\n",
      "11 4\n",
      "11 3\n",
      "11 2\n",
      "11 1\n",
      "11 0\n",
      "11 -1\n",
      "11 -2\n",
      "11 -3\n",
      "10 5\n",
      "10 4\n",
      "10 3\n",
      "10 2\n",
      "10 1\n",
      "10 0\n",
      "10 -1\n",
      "10 -2\n",
      "10 -3\n",
      "9 5\n",
      "9 4\n",
      "9 3\n",
      "9 2\n",
      "9 1\n",
      "9 0\n",
      "9 -1\n",
      "9 -2\n",
      "9 -3\n",
      "8 5\n",
      "8 4\n",
      "8 3\n",
      "8 2\n",
      "8 1\n",
      "8 0\n",
      "8 -1\n",
      "8 -2\n",
      "8 -3\n"
     ]
    }
   ],
   "source": [
    "i = 14\n",
    "while i >= 8:\n",
    "    j = 5\n",
    "    while j >= -3:\n",
    "        print(i, j)\n",
    "        j = j - 1\n",
    "    i = i - 1"
   ]
  },
  {
   "cell_type": "code",
   "execution_count": 2,
   "metadata": {},
   "outputs": [
    {
     "name": "stdout",
     "output_type": "stream",
     "text": [
      "14 5\n",
      "14 4\n",
      "14 3\n",
      "14 2\n",
      "14 1\n",
      "14 0\n",
      "14 -1\n",
      "14 -2\n",
      "14 -3\n",
      "12 5\n",
      "12 4\n",
      "12 3\n",
      "12 2\n",
      "12 1\n",
      "12 0\n",
      "12 -1\n",
      "12 -2\n",
      "12 -3\n",
      "10 5\n",
      "10 4\n",
      "10 3\n",
      "10 2\n",
      "10 1\n",
      "10 0\n",
      "10 -1\n",
      "10 -2\n",
      "10 -3\n",
      "8 5\n",
      "8 4\n",
      "8 3\n",
      "8 2\n",
      "8 1\n",
      "8 0\n",
      "8 -1\n",
      "8 -2\n",
      "8 -3\n"
     ]
    }
   ],
   "source": [
    "for i in range(14, 7, -2) :\n",
    "    for j in range(5, -4, -1):\n",
    "        print(i, j)"
   ]
  },
  {
   "cell_type": "code",
   "execution_count": 1,
   "metadata": {},
   "outputs": [
    {
     "name": "stdout",
     "output_type": "stream",
     "text": [
      "0\n",
      "1\n",
      "2\n",
      "3\n",
      "4\n",
      "5\n",
      "6\n",
      "7\n",
      "8\n",
      "9\n",
      "10\n",
      "11\n",
      "12\n",
      "13\n",
      "14\n",
      "15\n",
      "16\n",
      "17\n",
      "18\n",
      "19\n"
     ]
    }
   ],
   "source": [
    "for i in range(0, 20, 1) :\n",
    "    print(i)"
   ]
  },
  {
   "cell_type": "code",
   "execution_count": 3,
   "metadata": {},
   "outputs": [
    {
     "name": "stdout",
     "output_type": "stream",
     "text": [
      "0\n",
      "2\n",
      "4\n",
      "6\n",
      "8\n",
      "10\n",
      "12\n",
      "14\n",
      "16\n",
      "18\n"
     ]
    }
   ],
   "source": [
    "i = 0\n",
    "while i <= 18 :\n",
    "    print(i)\n",
    "    i = i+2"
   ]
  },
  {
   "cell_type": "code",
   "execution_count": 5,
   "metadata": {},
   "outputs": [
    {
     "name": "stdout",
     "output_type": "stream",
     "text": [
      "1\n",
      "3\n",
      "5\n",
      "7\n",
      "9\n",
      "11\n",
      "13\n",
      "15\n",
      "17\n",
      "19\n"
     ]
    }
   ],
   "source": [
    "for i in range(1, 20, 2) :\n",
    "    print(i)"
   ]
  },
  {
   "cell_type": "code",
   "execution_count": 6,
   "metadata": {},
   "outputs": [
    {
     "name": "stdout",
     "output_type": "stream",
     "text": [
      "19\n",
      "18\n",
      "17\n",
      "16\n",
      "15\n",
      "14\n",
      "13\n",
      "12\n",
      "11\n",
      "10\n",
      "9\n",
      "8\n",
      "7\n",
      "6\n",
      "5\n",
      "4\n",
      "3\n",
      "2\n",
      "1\n",
      "0\n"
     ]
    }
   ],
   "source": [
    "i = 19\n",
    "while i >= 0 :\n",
    "    print(i)\n",
    "    i = i-1"
   ]
  },
  {
   "cell_type": "code",
   "execution_count": 8,
   "metadata": {},
   "outputs": [
    {
     "name": "stdout",
     "output_type": "stream",
     "text": [
      "18\n",
      "16\n",
      "14\n",
      "12\n",
      "10\n",
      "8\n",
      "6\n",
      "4\n",
      "2\n",
      "0\n"
     ]
    }
   ],
   "source": [
    "for i in range(18, -1, -2) :\n",
    "    print(i)"
   ]
  },
  {
   "cell_type": "code",
   "execution_count": 9,
   "metadata": {},
   "outputs": [
    {
     "name": "stdout",
     "output_type": "stream",
     "text": [
      "19\n",
      "17\n",
      "15\n",
      "13\n",
      "11\n",
      "9\n",
      "7\n",
      "5\n",
      "3\n",
      "1\n"
     ]
    }
   ],
   "source": [
    "i = 19\n",
    "while i >= 1 :\n",
    "    print(i)\n",
    "    i = i-2"
   ]
  },
  {
   "cell_type": "code",
   "execution_count": 10,
   "metadata": {},
   "outputs": [
    {
     "name": "stdout",
     "output_type": "stream",
     "text": [
      "-3\n",
      "-2\n",
      "-1\n",
      "0\n",
      "1\n",
      "2\n",
      "3\n",
      "4\n",
      "5\n",
      "6\n",
      "7\n",
      "8\n",
      "9\n"
     ]
    }
   ],
   "source": [
    "for i in range(-3, 10, 1) :\n",
    "    print(i)"
   ]
  },
  {
   "cell_type": "code",
   "execution_count": 11,
   "metadata": {},
   "outputs": [
    {
     "name": "stdout",
     "output_type": "stream",
     "text": [
      "-9\n",
      "-8\n",
      "-7\n",
      "-6\n",
      "-5\n",
      "-4\n",
      "-3\n",
      "-2\n",
      "-1\n",
      "0\n"
     ]
    }
   ],
   "source": [
    "i = -9\n",
    "while i <= 0 :\n",
    "    print(i)\n",
    "    i = i+1\n"
   ]
  },
  {
   "cell_type": "code",
   "execution_count": 12,
   "metadata": {},
   "outputs": [
    {
     "name": "stdout",
     "output_type": "stream",
     "text": [
      "-5\n",
      "-6\n",
      "-7\n",
      "-8\n",
      "-9\n",
      "-10\n",
      "-11\n",
      "-12\n",
      "-13\n",
      "-14\n",
      "-15\n"
     ]
    }
   ],
   "source": [
    "for i in range(-5, -16, -1) :\n",
    "    print(i)"
   ]
  },
  {
   "cell_type": "code",
   "execution_count": 13,
   "metadata": {},
   "outputs": [
    {
     "name": "stdout",
     "output_type": "stream",
     "text": [
      "-5\n",
      "-7\n",
      "-9\n",
      "-11\n",
      "-13\n",
      "-15\n"
     ]
    }
   ],
   "source": [
    "i = -5\n",
    "while i >= -16 :\n",
    "    print(i)\n",
    "    i = i-2"
   ]
  },
  {
   "cell_type": "code",
   "execution_count": 15,
   "metadata": {},
   "outputs": [
    {
     "name": "stdout",
     "output_type": "stream",
     "text": [
      "15\n"
     ]
    }
   ],
   "source": [
    "n = int(input())\n",
    "sumx = 0\n",
    "for i in range(1, n+1) :\n",
    "    sumx = sumx + i\n",
    "print(sumx)"
   ]
  },
  {
   "cell_type": "code",
   "execution_count": 1,
   "metadata": {},
   "outputs": [
    {
     "name": "stdout",
     "output_type": "stream",
     "text": [
      "120\n"
     ]
    }
   ],
   "source": [
    "n = int(input())\n",
    "sumx = 1\n",
    "for i in range(1, n+1):\n",
    "    sumx= sumx*i\n",
    "print(sumx)"
   ]
  },
  {
   "cell_type": "code",
   "execution_count": 2,
   "metadata": {},
   "outputs": [
    {
     "name": "stdout",
     "output_type": "stream",
     "text": [
      "2.9289682539682538\n"
     ]
    }
   ],
   "source": [
    "n = int(input())\n",
    "sumx = 0\n",
    "i = 1\n",
    "while i <= n :\n",
    "    sumx = sumx + 1/i\n",
    "    i = i+1\n",
    "print(sumx)"
   ]
  },
  {
   "cell_type": "code",
   "execution_count": 3,
   "metadata": {},
   "outputs": [
    {
     "name": "stdout",
     "output_type": "stream",
     "text": [
      "1.5497677311665408\n"
     ]
    }
   ],
   "source": [
    "n = int(input())\n",
    "sumx = 0\n",
    "i = 1\n",
    "while i <= n :\n",
    "    sumx = sumx + 1/(i**2)\n",
    "    i = i + 1\n",
    "print(sumx)"
   ]
  },
  {
   "cell_type": "code",
   "execution_count": 5,
   "metadata": {},
   "outputs": [
    {
     "name": "stdout",
     "output_type": "stream",
     "text": [
      "4.904951700554677\n"
     ]
    }
   ],
   "source": [
    "n = int(input())\n",
    "sumx = 0\n",
    "for i in range(1, n+1):\n",
    "    sumx = sumx + 1/i**2\n",
    "pi = (6*sumx)**1/2\n",
    "print(pi)"
   ]
  },
  {
   "cell_type": "code",
   "execution_count": 7,
   "metadata": {},
   "outputs": [
    {
     "name": "stdout",
     "output_type": "stream",
     "text": [
      "4.904951700554677\n"
     ]
    }
   ],
   "source": [
    "n = int(input())\n",
    "sumx = 0\n",
    "i = 1\n",
    "while i <= n :\n",
    "    sumx = sumx + 1/i**2\n",
    "    i = i + 1\n",
    "pi = (6*sumx)**1/2\n",
    "print(pi)"
   ]
  },
  {
   "cell_type": "code",
   "execution_count": 8,
   "metadata": {},
   "outputs": [
    {
     "name": "stdout",
     "output_type": "stream",
     "text": [
      "3\n",
      "6\n",
      "9\n",
      "12\n",
      "15\n",
      "18\n",
      "21\n",
      "24\n",
      "27\n",
      "30\n",
      "33\n",
      "36\n",
      "39\n",
      "42\n",
      "45\n",
      "48\n",
      "51\n",
      "54\n",
      "57\n",
      "60\n",
      "63\n",
      "66\n",
      "69\n",
      "72\n",
      "75\n",
      "78\n",
      "81\n",
      "84\n",
      "87\n",
      "90\n",
      "93\n",
      "96\n",
      "99\n"
     ]
    }
   ],
   "source": [
    "for i in range(1, 100) :\n",
    "    if i%3 == 0 :\n",
    "        print(i)"
   ]
  },
  {
   "cell_type": "code",
   "execution_count": 1,
   "metadata": {},
   "outputs": [
    {
     "name": "stdout",
     "output_type": "stream",
     "text": [
      "15\n",
      "30\n",
      "45\n",
      "60\n",
      "75\n",
      "90\n"
     ]
    }
   ],
   "source": [
    "for i in range(1, 100) :\n",
    "    if (i%3 == 0) and (i%5 == 0) :\n",
    "        print(i)"
   ]
  },
  {
   "cell_type": "code",
   "execution_count": 4,
   "metadata": {},
   "outputs": [
    {
     "name": "stdout",
     "output_type": "stream",
     "text": [
      "3\n",
      "5\n",
      "6\n",
      "9\n",
      "10\n",
      "12\n",
      "15\n",
      "18\n",
      "20\n",
      "21\n",
      "24\n",
      "25\n",
      "27\n",
      "30\n",
      "33\n",
      "35\n",
      "36\n",
      "39\n",
      "40\n",
      "42\n",
      "45\n",
      "48\n",
      "50\n",
      "51\n",
      "54\n",
      "55\n",
      "57\n",
      "60\n",
      "63\n",
      "65\n",
      "66\n",
      "69\n",
      "70\n",
      "72\n",
      "75\n",
      "78\n",
      "80\n",
      "81\n",
      "84\n",
      "85\n",
      "87\n",
      "90\n",
      "93\n",
      "95\n",
      "96\n",
      "99\n"
     ]
    }
   ],
   "source": [
    "for i in range(1, 100):\n",
    "    if (i % 3 == 0) or (i % 5 == 0):\n",
    "        print(i)\n"
   ]
  },
  {
   "cell_type": "code",
   "execution_count": null,
   "metadata": {},
   "outputs": [
    {
     "name": "stdout",
     "output_type": "stream",
     "text": [
      "105\n",
      "210\n",
      "315\n",
      "420\n",
      "525\n",
      "630\n",
      "735\n",
      "840\n",
      "945\n"
     ]
    }
   ],
   "source": [
    "for i in range(1, 1000):\n",
    "    if (i % 3 == 0) and (i % 5 == 0) and (i % 7 == 0):\n",
    "        print(i)"
   ]
  },
  {
   "cell_type": "code",
   "execution_count": null,
   "metadata": {},
   "outputs": [
    {
     "name": "stdout",
     "output_type": "stream",
     "text": [
      "3\n",
      "5\n",
      "6\n",
      "9\n",
      "10\n",
      "12\n",
      "18\n",
      "20\n",
      "21\n",
      "24\n",
      "25\n",
      "27\n",
      "33\n",
      "35\n",
      "36\n",
      "39\n",
      "40\n",
      "42\n",
      "48\n",
      "50\n",
      "51\n",
      "54\n",
      "55\n",
      "57\n",
      "63\n",
      "65\n",
      "66\n",
      "69\n",
      "70\n",
      "72\n",
      "78\n",
      "80\n",
      "81\n",
      "84\n",
      "85\n",
      "87\n",
      "93\n",
      "95\n",
      "96\n",
      "99\n"
     ]
    }
   ],
   "source": [
    "for i in range(1, 100) :\n",
    "    if i%3 == 0 :\n",
    "        if i%5 != 0 :\n",
    "            print(i)\n",
    "    else :\n",
    "        if i%5 == 0 :\n",
    "            print(i)"
   ]
  },
  {
   "cell_type": "code",
   "execution_count": null,
   "metadata": {},
   "outputs": [
    {
     "name": "stdout",
     "output_type": "stream",
     "text": [
      "15\n",
      "45\n",
      "75\n"
     ]
    }
   ],
   "source": [
    "for i in range(1, 100) :\n",
    "    if (i%3 == 0) and (i%5 == 0) :\n",
    "        if i%2 != 0 :\n",
    "            print(i)"
   ]
  },
  {
   "cell_type": "code",
   "execution_count": null,
   "metadata": {},
   "outputs": [
    {
     "name": "stdout",
     "output_type": "stream",
     "text": [
      "3\n",
      "5\n",
      "9\n",
      "15\n",
      "21\n",
      "25\n",
      "27\n",
      "33\n",
      "35\n",
      "39\n",
      "45\n",
      "51\n",
      "55\n",
      "57\n",
      "63\n",
      "65\n",
      "69\n",
      "75\n",
      "81\n",
      "85\n",
      "87\n",
      "93\n",
      "95\n",
      "99\n"
     ]
    }
   ],
   "source": [
    "for i in range(1, 100):\n",
    "    if (i % 3 == 0) or (i % 5 == 0):\n",
    "        if i % 2 != 0:\n",
    "            print(i)"
   ]
  },
  {
   "cell_type": "code",
   "execution_count": null,
   "metadata": {},
   "outputs": [
    {
     "name": "stdout",
     "output_type": "stream",
     "text": [
      "333\n"
     ]
    }
   ],
   "source": [
    "count = 0\n",
    "for i in range(1, 1000) :\n",
    "    if i%3 == 0 :\n",
    "        count = count + 1\n",
    "print(count)"
   ]
  },
  {
   "cell_type": "code",
   "execution_count": null,
   "metadata": {},
   "outputs": [
    {
     "name": "stdout",
     "output_type": "stream",
     "text": [
      "166833\n"
     ]
    }
   ],
   "source": [
    "sumx = 0\n",
    "for i in range(1, 1000) :\n",
    "    if i%3 == 0 :\n",
    "        sumx = sumx + i\n",
    "print(sumx)"
   ]
  },
  {
   "cell_type": "code",
   "execution_count": 7,
   "metadata": {},
   "outputs": [
    {
     "ename": "ValueError",
     "evalue": "invalid literal for int() with base 10: ''",
     "output_type": "error",
     "traceback": [
      "\u001b[1;31m---------------------------------------------------------------------------\u001b[0m",
      "\u001b[1;31mValueError\u001b[0m                                Traceback (most recent call last)",
      "\u001b[1;32md:\\Work File\\PYTHON\\PYTHON\\500PYTHON.ipynb Cell 226\u001b[0m in \u001b[0;36m<cell line: 2>\u001b[1;34m()\u001b[0m\n\u001b[0;32m      <a href='vscode-notebook-cell:/d%3A/Work%20File/PYTHON/PYTHON/500PYTHON.ipynb#ch0000225?line=0'>1</a>\u001b[0m sumx \u001b[39m=\u001b[39m \u001b[39m0\u001b[39m\n\u001b[0;32m      <a href='vscode-notebook-cell:/d%3A/Work%20File/PYTHON/PYTHON/500PYTHON.ipynb#ch0000225?line=1'>2</a>\u001b[0m \u001b[39mfor\u001b[39;00m i \u001b[39min\u001b[39;00m \u001b[39mrange\u001b[39m(\u001b[39m1\u001b[39m, \u001b[39m6\u001b[39m) :\n\u001b[1;32m----> <a href='vscode-notebook-cell:/d%3A/Work%20File/PYTHON/PYTHON/500PYTHON.ipynb#ch0000225?line=2'>3</a>\u001b[0m     number \u001b[39m=\u001b[39m \u001b[39mint\u001b[39;49m(\u001b[39minput\u001b[39;49m())\n\u001b[0;32m      <a href='vscode-notebook-cell:/d%3A/Work%20File/PYTHON/PYTHON/500PYTHON.ipynb#ch0000225?line=3'>4</a>\u001b[0m     sumx \u001b[39m=\u001b[39m sumx \u001b[39m+\u001b[39m number\n\u001b[0;32m      <a href='vscode-notebook-cell:/d%3A/Work%20File/PYTHON/PYTHON/500PYTHON.ipynb#ch0000225?line=4'>5</a>\u001b[0m \u001b[39mprint\u001b[39m(sumx)\n",
      "\u001b[1;31mValueError\u001b[0m: invalid literal for int() with base 10: ''"
     ]
    }
   ],
   "source": [
    "sumx = 0\n",
    "for i in range(1, 6) :\n",
    "    number = int(input())\n",
    "    sumx = sumx + number\n",
    "print(sumx)"
   ]
  },
  {
   "cell_type": "code",
   "execution_count": null,
   "metadata": {},
   "outputs": [
    {
     "name": "stdout",
     "output_type": "stream",
     "text": [
      "po 5.0\n",
      "op -5.0\n"
     ]
    }
   ],
   "source": [
    "sumx_po = 0\n",
    "sumx_op = 0\n",
    "for i in range(1, 6) :\n",
    "    number = float(input())\n",
    "    if number >= 0 :\n",
    "        sumx_po = sumx_po + number\n",
    "    else :\n",
    "        sumx_op = sumx_op + number\n",
    "print('po', sumx_po)\n",
    "print('op', sumx_op)"
   ]
  },
  {
   "cell_type": "code",
   "execution_count": null,
   "metadata": {},
   "outputs": [
    {
     "name": "stdout",
     "output_type": "stream",
     "text": [
      "8.0\n"
     ]
    }
   ],
   "source": [
    "pro = 1\n",
    "for i in range(1, 6) :\n",
    "    number = float(input())\n",
    "    if number > 0 :\n",
    "        pro = pro*number\n",
    "print(pro)"
   ]
  },
  {
   "cell_type": "code",
   "execution_count": null,
   "metadata": {},
   "outputs": [
    {
     "name": "stdout",
     "output_type": "stream",
     "text": [
      "1\n",
      "2\n",
      "3\n",
      "4\n",
      "6\n",
      "8\n",
      "12\n",
      "24\n"
     ]
    }
   ],
   "source": [
    "number = int(input())\n",
    "for i in range(1, number+1) :\n",
    "    if number%i == 0 :\n",
    "        print(i)"
   ]
  },
  {
   "cell_type": "code",
   "execution_count": null,
   "metadata": {},
   "outputs": [
    {
     "name": "stdout",
     "output_type": "stream",
     "text": [
      "8\n"
     ]
    }
   ],
   "source": [
    "number = int(input())\n",
    "count = 0\n",
    "for i in range(1, number+1) :\n",
    "    if number%i == 0 :\n",
    "        count = count + 1\n",
    "print(count)"
   ]
  },
  {
   "cell_type": "code",
   "execution_count": null,
   "metadata": {},
   "outputs": [
    {
     "name": "stdout",
     "output_type": "stream",
     "text": [
      "isn't prime\n"
     ]
    }
   ],
   "source": [
    "number = int(input())\n",
    "count = 0\n",
    "for i in range(1, number+1) :\n",
    "    if number%i == 0 :\n",
    "        count = count + 1\n",
    "if count == 2 :\n",
    "    print('is prime')\n",
    "else :\n",
    "    print('isn\\'t prime')"
   ]
  },
  {
   "cell_type": "code",
   "execution_count": null,
   "metadata": {},
   "outputs": [
    {
     "name": "stdout",
     "output_type": "stream",
     "text": [
      "2\n",
      "3\n",
      "5\n",
      "7\n",
      "11\n",
      "13\n",
      "17\n",
      "19\n",
      "23\n",
      "29\n",
      "31\n",
      "37\n",
      "41\n",
      "43\n",
      "47\n",
      "53\n",
      "59\n",
      "61\n",
      "67\n",
      "71\n",
      "73\n",
      "79\n",
      "83\n",
      "89\n",
      "97\n"
     ]
    }
   ],
   "source": [
    "for i in range(1, 100) :\n",
    "    count = 0\n",
    "    for j in range(1, i+1) :\n",
    "        if i%j == 0 :\n",
    "            count = count + 1\n",
    "    if count == 2 :\n",
    "        print(i)"
   ]
  },
  {
   "cell_type": "code",
   "execution_count": null,
   "metadata": {},
   "outputs": [
    {
     "name": "stdout",
     "output_type": "stream",
     "text": [
      "2\n",
      "3\n",
      "5\n",
      "7\n",
      "11\n",
      "13\n",
      "17\n",
      "19\n",
      "23\n",
      "29\n",
      "31\n",
      "37\n",
      "41\n",
      "43\n",
      "47\n",
      "53\n",
      "59\n",
      "61\n",
      "67\n",
      "71\n",
      "73\n",
      "79\n",
      "83\n",
      "89\n",
      "97\n",
      "101\n",
      "103\n",
      "107\n",
      "109\n",
      "113\n",
      "127\n",
      "131\n",
      "137\n",
      "139\n",
      "149\n",
      "151\n",
      "157\n",
      "163\n",
      "167\n",
      "173\n",
      "179\n",
      "181\n",
      "191\n",
      "193\n",
      "197\n",
      "199\n",
      "211\n",
      "223\n",
      "227\n",
      "229\n",
      "233\n",
      "239\n",
      "241\n",
      "251\n",
      "257\n",
      "263\n",
      "269\n",
      "271\n",
      "277\n",
      "281\n",
      "283\n",
      "293\n",
      "307\n",
      "311\n",
      "313\n",
      "317\n",
      "331\n",
      "337\n",
      "347\n",
      "349\n",
      "353\n",
      "359\n",
      "367\n",
      "373\n",
      "379\n",
      "383\n",
      "389\n",
      "397\n",
      "401\n",
      "409\n",
      "419\n",
      "421\n",
      "431\n",
      "433\n",
      "439\n",
      "443\n",
      "449\n",
      "457\n",
      "461\n",
      "463\n",
      "467\n",
      "479\n",
      "487\n",
      "491\n",
      "499\n",
      "503\n",
      "509\n",
      "521\n",
      "523\n",
      "541\n"
     ]
    }
   ],
   "source": [
    "count_prime = 0\n",
    "i = 1\n",
    "while count_prime <= 99 :\n",
    "    count = 0\n",
    "    for j in range(1, i+1) :\n",
    "        if i%j == 0 :\n",
    "            count = count + 1\n",
    "    if count == 2 :\n",
    "        print(i)\n",
    "        count_prime = count_prime + 1\n",
    "    i = i + 1"
   ]
  },
  {
   "cell_type": "code",
   "execution_count": null,
   "metadata": {},
   "outputs": [
    {
     "name": "stdout",
     "output_type": "stream",
     "text": [
      "24133\n"
     ]
    }
   ],
   "source": [
    "count_prime = 0\n",
    "sumx = 0\n",
    "i = 1\n",
    "while count_prime <= 99:\n",
    "    count = 0\n",
    "    for j in range(1, i+1):\n",
    "        if i % j == 0:\n",
    "            count = count + 1\n",
    "    if count == 2:\n",
    "        count_prime = count_prime + 1\n",
    "        sumx = sumx + i\n",
    "    i = i + 1\n",
    "print(sumx)"
   ]
  },
  {
   "cell_type": "code",
   "execution_count": null,
   "metadata": {},
   "outputs": [
    {
     "name": "stdout",
     "output_type": "stream",
     "text": [
      "c\n",
      "d\n",
      "n\n"
     ]
    }
   ],
   "source": [
    "str1 = input()\n",
    "n = len(str1)\n",
    "for i in range(n) :\n",
    "    if i%2 == 0 :\n",
    "        print(str1[i])"
   ]
  },
  {
   "cell_type": "code",
   "execution_count": null,
   "metadata": {},
   "outputs": [
    {
     "name": "stdout",
     "output_type": "stream",
     "text": [
      "o\n",
      "i\n",
      "g\n"
     ]
    }
   ],
   "source": [
    "str1 = input()\n",
    "n = len(str1)\n",
    "for i in range(n):\n",
    "    if i % 2 != 0:\n",
    "        print(str1[i])"
   ]
  },
  {
   "cell_type": "code",
   "execution_count": null,
   "metadata": {},
   "outputs": [
    {
     "name": "stdout",
     "output_type": "stream",
     "text": [
      "20\n"
     ]
    }
   ],
   "source": [
    "sumx = 0\n",
    "for i in range(1, 6) :\n",
    "    str1 = input(str(i))\n",
    "    length = len(str1)\n",
    "    sumx = sumx + length\n",
    "print(sumx)"
   ]
  },
  {
   "cell_type": "code",
   "execution_count": null,
   "metadata": {},
   "outputs": [
    {
     "name": "stdout",
     "output_type": "stream",
     "text": [
      "0\n"
     ]
    }
   ],
   "source": [
    "str1 = input()\n",
    "char1 = input()\n",
    "if len(char1) == 1 :\n",
    "    for i in range(len(str1)) :\n",
    "        if str1[i] == char1 :\n",
    "            print(i)"
   ]
  },
  {
   "cell_type": "code",
   "execution_count": null,
   "metadata": {},
   "outputs": [
    {
     "name": "stdout",
     "output_type": "stream",
     "text": [
      "3\n"
     ]
    }
   ],
   "source": [
    "sumx = 0\n",
    "for i in range(1, 6) :\n",
    "    str1 = input(str(i))\n",
    "    for s in str1 :\n",
    "        if s == 'a' :\n",
    "            sumx = sumx + 1\n",
    "print(sumx)"
   ]
  },
  {
   "cell_type": "code",
   "execution_count": null,
   "metadata": {},
   "outputs": [
    {
     "name": "stdout",
     "output_type": "stream",
     "text": [
      "5\n"
     ]
    }
   ],
   "source": [
    "a = 3\n",
    "b = 2\n",
    "print(a+b)"
   ]
  },
  {
   "cell_type": "code",
   "execution_count": null,
   "metadata": {},
   "outputs": [
    {
     "name": "stdout",
     "output_type": "stream",
     "text": [
      "15300\n"
     ]
    }
   ],
   "source": [
    "sumx = 0\n",
    "for i in range(32, 395) :\n",
    "    if i%5 == 0 :\n",
    "        sumx = sumx + i\n",
    "print(sumx)"
   ]
  },
  {
   "cell_type": "code",
   "execution_count": null,
   "metadata": {},
   "outputs": [
    {
     "name": "stdout",
     "output_type": "stream",
     "text": [
      "32\n"
     ]
    }
   ],
   "source": [
    "count = 0\n",
    "for i in range(-43, 300, 11) :\n",
    "    count = count + 1\n",
    "print(count)"
   ]
  },
  {
   "cell_type": "code",
   "execution_count": null,
   "metadata": {},
   "outputs": [],
   "source": [
    "x = int(input(\"จงบอกจำนวนมุมที่จะให้มี = \"))\n",
    "import turtle as t\n",
    "for i in range(x) :\n",
    "    t.forward(9)\n",
    "    t.left(360/x)"
   ]
  }
 ],
 "metadata": {
  "interpreter": {
   "hash": "afb734500600fd355917ca529030176ea0ca205570884b88f2f6f7d791fd3fbe"
  },
  "kernelspec": {
   "display_name": "Python 3.10.4 64-bit",
   "language": "python",
   "name": "python3"
  },
  "language_info": {
   "codemirror_mode": {
    "name": "ipython",
    "version": 3
   },
   "file_extension": ".py",
   "mimetype": "text/x-python",
   "name": "python",
   "nbconvert_exporter": "python",
   "pygments_lexer": "ipython3",
   "version": "3.10.4"
  },
  "orig_nbformat": 4
 },
 "nbformat": 4,
 "nbformat_minor": 2
}
